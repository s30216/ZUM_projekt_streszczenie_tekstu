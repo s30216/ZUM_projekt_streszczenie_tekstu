{
 "cells": [
  {
   "cell_type": "markdown",
   "metadata": {
    "id": "8PCjke0vS7Nx"
   },
   "source": [
    "# Projekt ZUM - Streszczenie tekstu"
   ]
  },
  {
   "cell_type": "markdown",
   "metadata": {},
   "source": [
    "## Wstępna analiza"
   ]
  },
  {
   "cell_type": "code",
   "metadata": {
    "colab": {
     "base_uri": "https://localhost:8080/"
    },
    "id": "ZDp5cu7ZiZ2k",
    "outputId": "fe7acd8d-743d-4681-f399-0b008394ab29",
    "ExecuteTime": {
     "end_time": "2025-01-26T12:58:40.292849Z",
     "start_time": "2025-01-26T12:58:39.589435Z"
    }
   },
   "source": "! pip install datasets transformers torch accelerate dash plotly jupyter-dash rouge-score evaluate",
   "outputs": [
    {
     "name": "stdout",
     "output_type": "stream",
     "text": [
      "Requirement already satisfied: datasets in /opt/homebrew/Caskroom/miniconda/base/envs/ml/lib/python3.12/site-packages (3.2.0)\r\n",
      "Requirement already satisfied: transformers in /opt/homebrew/Caskroom/miniconda/base/envs/ml/lib/python3.12/site-packages (4.48.0)\r\n",
      "Requirement already satisfied: torch in /opt/homebrew/Caskroom/miniconda/base/envs/ml/lib/python3.12/site-packages (2.5.1)\r\n",
      "Requirement already satisfied: accelerate in /opt/homebrew/Caskroom/miniconda/base/envs/ml/lib/python3.12/site-packages (1.2.1)\r\n",
      "Requirement already satisfied: dash in /opt/homebrew/Caskroom/miniconda/base/envs/ml/lib/python3.12/site-packages (2.18.2)\r\n",
      "Requirement already satisfied: plotly in /opt/homebrew/Caskroom/miniconda/base/envs/ml/lib/python3.12/site-packages (5.24.1)\r\n",
      "Requirement already satisfied: jupyter-dash in /opt/homebrew/Caskroom/miniconda/base/envs/ml/lib/python3.12/site-packages (0.4.2)\r\n",
      "Requirement already satisfied: rouge-score in /opt/homebrew/Caskroom/miniconda/base/envs/ml/lib/python3.12/site-packages (0.1.2)\r\n",
      "Requirement already satisfied: evaluate in /opt/homebrew/Caskroom/miniconda/base/envs/ml/lib/python3.12/site-packages (0.4.3)\r\n",
      "Requirement already satisfied: filelock in /opt/homebrew/Caskroom/miniconda/base/envs/ml/lib/python3.12/site-packages (from datasets) (3.16.1)\r\n",
      "Requirement already satisfied: numpy>=1.17 in /opt/homebrew/Caskroom/miniconda/base/envs/ml/lib/python3.12/site-packages (from datasets) (2.2.1)\r\n",
      "Requirement already satisfied: pyarrow>=15.0.0 in /opt/homebrew/Caskroom/miniconda/base/envs/ml/lib/python3.12/site-packages (from datasets) (18.1.0)\r\n",
      "Requirement already satisfied: dill<0.3.9,>=0.3.0 in /opt/homebrew/Caskroom/miniconda/base/envs/ml/lib/python3.12/site-packages (from datasets) (0.3.8)\r\n",
      "Requirement already satisfied: pandas in /opt/homebrew/Caskroom/miniconda/base/envs/ml/lib/python3.12/site-packages (from datasets) (2.2.3)\r\n",
      "Requirement already satisfied: requests>=2.32.2 in /opt/homebrew/Caskroom/miniconda/base/envs/ml/lib/python3.12/site-packages (from datasets) (2.32.3)\r\n",
      "Requirement already satisfied: tqdm>=4.66.3 in /opt/homebrew/Caskroom/miniconda/base/envs/ml/lib/python3.12/site-packages (from datasets) (4.67.1)\r\n",
      "Requirement already satisfied: xxhash in /opt/homebrew/Caskroom/miniconda/base/envs/ml/lib/python3.12/site-packages (from datasets) (3.5.0)\r\n",
      "Requirement already satisfied: multiprocess<0.70.17 in /opt/homebrew/Caskroom/miniconda/base/envs/ml/lib/python3.12/site-packages (from datasets) (0.70.16)\r\n",
      "Requirement already satisfied: fsspec<=2024.9.0,>=2023.1.0 in /opt/homebrew/Caskroom/miniconda/base/envs/ml/lib/python3.12/site-packages (from fsspec[http]<=2024.9.0,>=2023.1.0->datasets) (2024.9.0)\r\n",
      "Requirement already satisfied: aiohttp in /opt/homebrew/Caskroom/miniconda/base/envs/ml/lib/python3.12/site-packages (from datasets) (3.11.11)\r\n",
      "Requirement already satisfied: huggingface-hub>=0.23.0 in /opt/homebrew/Caskroom/miniconda/base/envs/ml/lib/python3.12/site-packages (from datasets) (0.27.1)\r\n",
      "Requirement already satisfied: packaging in /opt/homebrew/Caskroom/miniconda/base/envs/ml/lib/python3.12/site-packages (from datasets) (24.2)\r\n",
      "Requirement already satisfied: pyyaml>=5.1 in /opt/homebrew/Caskroom/miniconda/base/envs/ml/lib/python3.12/site-packages (from datasets) (6.0.2)\r\n",
      "Requirement already satisfied: regex!=2019.12.17 in /opt/homebrew/Caskroom/miniconda/base/envs/ml/lib/python3.12/site-packages (from transformers) (2024.11.6)\r\n",
      "Requirement already satisfied: tokenizers<0.22,>=0.21 in /opt/homebrew/Caskroom/miniconda/base/envs/ml/lib/python3.12/site-packages (from transformers) (0.21.0)\r\n",
      "Requirement already satisfied: safetensors>=0.4.1 in /opt/homebrew/Caskroom/miniconda/base/envs/ml/lib/python3.12/site-packages (from transformers) (0.5.2)\r\n",
      "Requirement already satisfied: typing-extensions>=4.8.0 in /opt/homebrew/Caskroom/miniconda/base/envs/ml/lib/python3.12/site-packages (from torch) (4.12.2)\r\n",
      "Requirement already satisfied: networkx in /opt/homebrew/Caskroom/miniconda/base/envs/ml/lib/python3.12/site-packages (from torch) (3.4.2)\r\n",
      "Requirement already satisfied: jinja2 in /opt/homebrew/Caskroom/miniconda/base/envs/ml/lib/python3.12/site-packages (from torch) (3.1.4)\r\n",
      "Requirement already satisfied: setuptools in /opt/homebrew/Caskroom/miniconda/base/envs/ml/lib/python3.12/site-packages (from torch) (75.8.0)\r\n",
      "Requirement already satisfied: sympy==1.13.1 in /opt/homebrew/Caskroom/miniconda/base/envs/ml/lib/python3.12/site-packages (from torch) (1.13.1)\r\n",
      "Requirement already satisfied: mpmath<1.4,>=1.1.0 in /opt/homebrew/Caskroom/miniconda/base/envs/ml/lib/python3.12/site-packages (from sympy==1.13.1->torch) (1.3.0)\r\n",
      "Requirement already satisfied: psutil in /opt/homebrew/Caskroom/miniconda/base/envs/ml/lib/python3.12/site-packages (from accelerate) (5.9.0)\r\n",
      "Requirement already satisfied: Flask<3.1,>=1.0.4 in /opt/homebrew/Caskroom/miniconda/base/envs/ml/lib/python3.12/site-packages (from dash) (3.0.3)\r\n",
      "Requirement already satisfied: Werkzeug<3.1 in /opt/homebrew/Caskroom/miniconda/base/envs/ml/lib/python3.12/site-packages (from dash) (3.0.6)\r\n",
      "Requirement already satisfied: dash-html-components==2.0.0 in /opt/homebrew/Caskroom/miniconda/base/envs/ml/lib/python3.12/site-packages (from dash) (2.0.0)\r\n",
      "Requirement already satisfied: dash-core-components==2.0.0 in /opt/homebrew/Caskroom/miniconda/base/envs/ml/lib/python3.12/site-packages (from dash) (2.0.0)\r\n",
      "Requirement already satisfied: dash-table==5.0.0 in /opt/homebrew/Caskroom/miniconda/base/envs/ml/lib/python3.12/site-packages (from dash) (5.0.0)\r\n",
      "Requirement already satisfied: importlib-metadata in /opt/homebrew/Caskroom/miniconda/base/envs/ml/lib/python3.12/site-packages (from dash) (8.5.0)\r\n",
      "Requirement already satisfied: retrying in /opt/homebrew/Caskroom/miniconda/base/envs/ml/lib/python3.12/site-packages (from dash) (1.3.4)\r\n",
      "Requirement already satisfied: nest-asyncio in /opt/homebrew/Caskroom/miniconda/base/envs/ml/lib/python3.12/site-packages (from dash) (1.6.0)\r\n",
      "Requirement already satisfied: tenacity>=6.2.0 in /opt/homebrew/Caskroom/miniconda/base/envs/ml/lib/python3.12/site-packages (from plotly) (9.0.0)\r\n",
      "Requirement already satisfied: ipython in /opt/homebrew/Caskroom/miniconda/base/envs/ml/lib/python3.12/site-packages (from jupyter-dash) (8.30.0)\r\n",
      "Requirement already satisfied: ipykernel in /opt/homebrew/Caskroom/miniconda/base/envs/ml/lib/python3.12/site-packages (from jupyter-dash) (6.29.5)\r\n",
      "Requirement already satisfied: ansi2html in /opt/homebrew/Caskroom/miniconda/base/envs/ml/lib/python3.12/site-packages (from jupyter-dash) (1.9.2)\r\n",
      "Requirement already satisfied: absl-py in /opt/homebrew/Caskroom/miniconda/base/envs/ml/lib/python3.12/site-packages (from rouge-score) (2.1.0)\r\n",
      "Requirement already satisfied: nltk in /opt/homebrew/Caskroom/miniconda/base/envs/ml/lib/python3.12/site-packages (from rouge-score) (3.9.1)\r\n",
      "Requirement already satisfied: six>=1.14.0 in /opt/homebrew/Caskroom/miniconda/base/envs/ml/lib/python3.12/site-packages (from rouge-score) (1.16.0)\r\n",
      "Requirement already satisfied: itsdangerous>=2.1.2 in /opt/homebrew/Caskroom/miniconda/base/envs/ml/lib/python3.12/site-packages (from Flask<3.1,>=1.0.4->dash) (2.2.0)\r\n",
      "Requirement already satisfied: click>=8.1.3 in /opt/homebrew/Caskroom/miniconda/base/envs/ml/lib/python3.12/site-packages (from Flask<3.1,>=1.0.4->dash) (8.1.8)\r\n",
      "Requirement already satisfied: blinker>=1.6.2 in /opt/homebrew/Caskroom/miniconda/base/envs/ml/lib/python3.12/site-packages (from Flask<3.1,>=1.0.4->dash) (1.9.0)\r\n",
      "Requirement already satisfied: aiohappyeyeballs>=2.3.0 in /opt/homebrew/Caskroom/miniconda/base/envs/ml/lib/python3.12/site-packages (from aiohttp->datasets) (2.4.4)\r\n",
      "Requirement already satisfied: aiosignal>=1.1.2 in /opt/homebrew/Caskroom/miniconda/base/envs/ml/lib/python3.12/site-packages (from aiohttp->datasets) (1.3.2)\r\n",
      "Requirement already satisfied: attrs>=17.3.0 in /opt/homebrew/Caskroom/miniconda/base/envs/ml/lib/python3.12/site-packages (from aiohttp->datasets) (24.3.0)\r\n",
      "Requirement already satisfied: frozenlist>=1.1.1 in /opt/homebrew/Caskroom/miniconda/base/envs/ml/lib/python3.12/site-packages (from aiohttp->datasets) (1.5.0)\r\n",
      "Requirement already satisfied: multidict<7.0,>=4.5 in /opt/homebrew/Caskroom/miniconda/base/envs/ml/lib/python3.12/site-packages (from aiohttp->datasets) (6.1.0)\r\n",
      "Requirement already satisfied: propcache>=0.2.0 in /opt/homebrew/Caskroom/miniconda/base/envs/ml/lib/python3.12/site-packages (from aiohttp->datasets) (0.2.1)\r\n",
      "Requirement already satisfied: yarl<2.0,>=1.17.0 in /opt/homebrew/Caskroom/miniconda/base/envs/ml/lib/python3.12/site-packages (from aiohttp->datasets) (1.18.3)\r\n",
      "Requirement already satisfied: MarkupSafe>=2.0 in /opt/homebrew/Caskroom/miniconda/base/envs/ml/lib/python3.12/site-packages (from jinja2->torch) (2.1.3)\r\n",
      "Requirement already satisfied: charset-normalizer<4,>=2 in /opt/homebrew/Caskroom/miniconda/base/envs/ml/lib/python3.12/site-packages (from requests>=2.32.2->datasets) (3.3.2)\r\n",
      "Requirement already satisfied: idna<4,>=2.5 in /opt/homebrew/Caskroom/miniconda/base/envs/ml/lib/python3.12/site-packages (from requests>=2.32.2->datasets) (3.7)\r\n",
      "Requirement already satisfied: urllib3<3,>=1.21.1 in /opt/homebrew/Caskroom/miniconda/base/envs/ml/lib/python3.12/site-packages (from requests>=2.32.2->datasets) (2.2.3)\r\n",
      "Requirement already satisfied: certifi>=2017.4.17 in /opt/homebrew/Caskroom/miniconda/base/envs/ml/lib/python3.12/site-packages (from requests>=2.32.2->datasets) (2024.12.14)\r\n",
      "Requirement already satisfied: zipp>=3.20 in /opt/homebrew/Caskroom/miniconda/base/envs/ml/lib/python3.12/site-packages (from importlib-metadata->dash) (3.21.0)\r\n",
      "Requirement already satisfied: appnope in /opt/homebrew/Caskroom/miniconda/base/envs/ml/lib/python3.12/site-packages (from ipykernel->jupyter-dash) (0.1.3)\r\n",
      "Requirement already satisfied: comm>=0.1.1 in /opt/homebrew/Caskroom/miniconda/base/envs/ml/lib/python3.12/site-packages (from ipykernel->jupyter-dash) (0.2.1)\r\n",
      "Requirement already satisfied: debugpy>=1.6.5 in /opt/homebrew/Caskroom/miniconda/base/envs/ml/lib/python3.12/site-packages (from ipykernel->jupyter-dash) (1.6.7)\r\n",
      "Requirement already satisfied: jupyter-client>=6.1.12 in /opt/homebrew/Caskroom/miniconda/base/envs/ml/lib/python3.12/site-packages (from ipykernel->jupyter-dash) (8.6.0)\r\n",
      "Requirement already satisfied: jupyter-core!=5.0.*,>=4.12 in /opt/homebrew/Caskroom/miniconda/base/envs/ml/lib/python3.12/site-packages (from ipykernel->jupyter-dash) (5.7.2)\r\n",
      "Requirement already satisfied: matplotlib-inline>=0.1 in /opt/homebrew/Caskroom/miniconda/base/envs/ml/lib/python3.12/site-packages (from ipykernel->jupyter-dash) (0.1.6)\r\n",
      "Requirement already satisfied: pyzmq>=24 in /opt/homebrew/Caskroom/miniconda/base/envs/ml/lib/python3.12/site-packages (from ipykernel->jupyter-dash) (26.2.0)\r\n",
      "Requirement already satisfied: tornado>=6.1 in /opt/homebrew/Caskroom/miniconda/base/envs/ml/lib/python3.12/site-packages (from ipykernel->jupyter-dash) (6.4.2)\r\n",
      "Requirement already satisfied: traitlets>=5.4.0 in /opt/homebrew/Caskroom/miniconda/base/envs/ml/lib/python3.12/site-packages (from ipykernel->jupyter-dash) (5.14.3)\r\n",
      "Requirement already satisfied: decorator in /opt/homebrew/Caskroom/miniconda/base/envs/ml/lib/python3.12/site-packages (from ipython->jupyter-dash) (5.1.1)\r\n",
      "Requirement already satisfied: jedi>=0.16 in /opt/homebrew/Caskroom/miniconda/base/envs/ml/lib/python3.12/site-packages (from ipython->jupyter-dash) (0.19.2)\r\n",
      "Requirement already satisfied: prompt-toolkit<3.1.0,>=3.0.41 in /opt/homebrew/Caskroom/miniconda/base/envs/ml/lib/python3.12/site-packages (from ipython->jupyter-dash) (3.0.43)\r\n",
      "Requirement already satisfied: pygments>=2.4.0 in /opt/homebrew/Caskroom/miniconda/base/envs/ml/lib/python3.12/site-packages (from ipython->jupyter-dash) (2.15.1)\r\n",
      "Requirement already satisfied: stack-data in /opt/homebrew/Caskroom/miniconda/base/envs/ml/lib/python3.12/site-packages (from ipython->jupyter-dash) (0.2.0)\r\n",
      "Requirement already satisfied: pexpect>4.3 in /opt/homebrew/Caskroom/miniconda/base/envs/ml/lib/python3.12/site-packages (from ipython->jupyter-dash) (4.8.0)\r\n",
      "Requirement already satisfied: joblib in /opt/homebrew/Caskroom/miniconda/base/envs/ml/lib/python3.12/site-packages (from nltk->rouge-score) (1.4.2)\r\n",
      "Requirement already satisfied: python-dateutil>=2.8.2 in /opt/homebrew/Caskroom/miniconda/base/envs/ml/lib/python3.12/site-packages (from pandas->datasets) (2.9.0.post0)\r\n",
      "Requirement already satisfied: pytz>=2020.1 in /opt/homebrew/Caskroom/miniconda/base/envs/ml/lib/python3.12/site-packages (from pandas->datasets) (2024.1)\r\n",
      "Requirement already satisfied: tzdata>=2022.7 in /opt/homebrew/Caskroom/miniconda/base/envs/ml/lib/python3.12/site-packages (from pandas->datasets) (2024.2)\r\n",
      "Requirement already satisfied: parso<0.9.0,>=0.8.4 in /opt/homebrew/Caskroom/miniconda/base/envs/ml/lib/python3.12/site-packages (from jedi>=0.16->ipython->jupyter-dash) (0.8.4)\r\n",
      "Requirement already satisfied: platformdirs>=2.5 in /opt/homebrew/Caskroom/miniconda/base/envs/ml/lib/python3.12/site-packages (from jupyter-core!=5.0.*,>=4.12->ipykernel->jupyter-dash) (3.10.0)\r\n",
      "Requirement already satisfied: ptyprocess>=0.5 in /opt/homebrew/Caskroom/miniconda/base/envs/ml/lib/python3.12/site-packages (from pexpect>4.3->ipython->jupyter-dash) (0.7.0)\r\n",
      "Requirement already satisfied: wcwidth in /opt/homebrew/Caskroom/miniconda/base/envs/ml/lib/python3.12/site-packages (from prompt-toolkit<3.1.0,>=3.0.41->ipython->jupyter-dash) (0.2.5)\r\n",
      "Requirement already satisfied: executing in /opt/homebrew/Caskroom/miniconda/base/envs/ml/lib/python3.12/site-packages (from stack-data->ipython->jupyter-dash) (0.8.3)\r\n",
      "Requirement already satisfied: asttokens in /opt/homebrew/Caskroom/miniconda/base/envs/ml/lib/python3.12/site-packages (from stack-data->ipython->jupyter-dash) (2.0.5)\r\n",
      "Requirement already satisfied: pure-eval in /opt/homebrew/Caskroom/miniconda/base/envs/ml/lib/python3.12/site-packages (from stack-data->ipython->jupyter-dash) (0.2.2)\r\n"
     ]
    }
   ],
   "execution_count": 1
  },
  {
   "cell_type": "code",
   "metadata": {
    "colab": {
     "base_uri": "https://localhost:8080/"
    },
    "id": "aIUh2ND8iocS",
    "outputId": "70848d85-24d8-40dd-a639-7b21f9a9245a",
    "ExecuteTime": {
     "end_time": "2025-01-26T12:58:46.702968Z",
     "start_time": "2025-01-26T12:58:40.300971Z"
    }
   },
   "source": [
    "from datasets import load_dataset\n",
    "\n",
    "ds = load_dataset(\"abisee/cnn_dailymail\", \"3.0.0\")\n",
    "cap = 500\n",
    "df_train = ds['train'].to_pandas()\n",
    "df_train = df_train[df_train['article'].str.len() < cap]\n",
    "\n",
    "df_val = ds['validation'].to_pandas()\n",
    "df_val = df_val[df_val['article'].str.len() < cap]\n",
    "\n",
    "df_test = ds['test'].to_pandas()\n",
    "df_test = df_test[df_test['article'].str.len() < cap]"
   ],
   "outputs": [
    {
     "name": "stderr",
     "output_type": "stream",
     "text": [
      "/opt/homebrew/Caskroom/miniconda/base/envs/ml/lib/python3.12/site-packages/tqdm/auto.py:21: TqdmWarning: IProgress not found. Please update jupyter and ipywidgets. See https://ipywidgets.readthedocs.io/en/stable/user_install.html\n",
      "  from .autonotebook import tqdm as notebook_tqdm\n"
     ]
    }
   ],
   "execution_count": 2
  },
  {
   "cell_type": "code",
   "metadata": {
    "ExecuteTime": {
     "end_time": "2025-01-26T12:58:46.860880Z",
     "start_time": "2025-01-26T12:58:46.857811Z"
    }
   },
   "source": [
    "ds"
   ],
   "outputs": [
    {
     "data": {
      "text/plain": [
       "DatasetDict({\n",
       "    train: Dataset({\n",
       "        features: ['article', 'highlights', 'id'],\n",
       "        num_rows: 287113\n",
       "    })\n",
       "    validation: Dataset({\n",
       "        features: ['article', 'highlights', 'id'],\n",
       "        num_rows: 13368\n",
       "    })\n",
       "    test: Dataset({\n",
       "        features: ['article', 'highlights', 'id'],\n",
       "        num_rows: 11490\n",
       "    })\n",
       "})"
      ]
     },
     "execution_count": 3,
     "metadata": {},
     "output_type": "execute_result"
    }
   ],
   "execution_count": 3
  },
  {
   "cell_type": "code",
   "metadata": {
    "ExecuteTime": {
     "end_time": "2025-01-26T12:58:46.873366Z",
     "start_time": "2025-01-26T12:58:46.867564Z"
    }
   },
   "source": [
    "import pandas as pd\n",
    "\n",
    "pd.set_option('display.max_colwidth', 500)\n",
    "\n",
    "df_train"
   ],
   "outputs": [
    {
     "data": {
      "text/plain": [
       "                                                                                                                                                                                                                                                                                                                                                                                                                                                                                                    article  \\\n",
       "293                                                                                                                                                                                                                                      • The twins get a check-up (2/26/08) • VIDEO: Nancy Grace introduces on set 2-14-08  • The twins go out for a stroll (2/11/08) • The twins at 3 months (2/4/08) • The twins in January (1/21/08) • VIDEO: First video of Nancy Grace's twins  E-mail to a friend .   \n",
       "1511                                                                                                                                                                                                                                                                          (CNN) -- The U.S. Commission on International Religious Freedom cited several examples in a recent report of abuse toward Christians in Iraq. Iraqis rush to a car bomb explosion at a Christian church in Kirkuk in January.   \n",
       "1706                                                                                                                                                                                                                                                                                                                                                                                             Congressman Jared Polis . (D) Colorado: District 02 . Congressman Jason Chaffetz . (R) Utah: District 03 .   \n",
       "2811                              (CNN) -- Each year, Dr. Paul Dell and his wife, Ruthie, host Hand Camp, a refuge for children and teens with upper-limb abnormalities. Campers get to try arts and crafts, archery, and rope climbing in an environment away from teasing. The Dells, along with their staff of therapists and volunteers, work with the kids and their parents, offering advice and answering medical questions. More than 300 participated in this year's Hand Camp in Starke, Florida.   \n",
       "2902                                                                                                                                                                                                                                                                                                                                                                                             Congressman Jared Polis . (D) Colorado: District 02 . Congressman Jason Chaffetz . (R) Utah: District 03 .   \n",
       "...                                                                                                                                                                                                                                                                                                                                                                                                                                                                                                     ...   \n",
       "227432                                                                                                                                                                                                                                                                             New Land Rover Discovery Sport . HSE Luxury 2.2L SD4 diesel . On sale: early 2015 Price: £41,195 . GOOD . Ray Massey (pictured) tests the features on the new seven-seater Land Rover Discovery Sport in Iceland . BAD .   \n",
       "228230                                                                                                                                                                                         Volkswagen Passat Estate SE Business 2.0 TDI 150PS . Price as driven: £31,270 . GOOD . The Volkswagen Passat Estate SE Business 2.0 TDI 150PS (pictured) is the eighth generation of the model . BAD . The Passat has been around for 42 years, pictured here is the first generation of the model in 1973 .   \n",
       "230603  Sunderland have signed Inter Milan's Ricky Alvarez on a season-long loan deal. The clubs have agreed a fee of £1million for the move but could make the deal permanent for £8.5m, assuming Sunderland stay in the Premier League. Alvarez, 26, is a 6ft 2in attacking midfielder and has been capped seven times by Argentina and was part of his country's World Cup squad in Brazil. On the move: Sunderland have signed Ricky Alvarez on loan from Inter Milan with a view to a permanent deal .   \n",
       "244504                                                                                                                                                                                                                                                                                                                                                                                                                                                     Downton Abbey's famously grim butler, Mr Bates .   \n",
       "267759                                                Bad spellers will rejoice at the autocorrect function on our smartphones. But without total concentration, it has a sneaky habit of twisting your words into something rather rude - even during the season of goodwill. From kissing under the camel toe, to threatening to take the kids to see Satan, damnyouautocorrect.com has put together a collection of text message showing some of the funniest autocorrects sent over the festive period.   \n",
       "\n",
       "                                                                                                                                                                                                                                                                                                                                                                                                                                                                                                                 highlights  \\\n",
       "293                                                                                                                                                                                                                                                                                                                                                                   Pictures of Nancy Grace's twins .\\nJohn David and Lucy Elizabeth were born November 4, 2007 .\\nCome back to this site for regularly updated pictures!   \n",
       "1511                                                                                                                                                                                                                                                            U.S. panel reports examples of intimidation, violence against Christians in Iraq .\\nReport: Christians urged to convert to Islam, attacked if they don't obey Islamic laws .\\nChristian priests, missionaries have been kidnapped and killed, report says .   \n",
       "1706                                                                                                                                                                                                                                                                                                   Two freshman representatives document their experience for CNN .\\nRep. Jared Polis is a Democrat representing Colorado's Second district .\\nRep. Jason Chaffetz is a Republican representing Utah's Third district .   \n",
       "2811                                                                                                                                                                                                                                                                              Many of the campers are patients of the camp's co-founder, Dr. Paul Dell .\\nParent sessions are held to give advice to families, especially about teasing .\\nThe camp is free and will hopefully stay free, co-founder Ruthie Dell says .   \n",
       "2902                                                                                                                                                                                                                                                     Video: Hand-held cams track freshmen moves .\\nTwo freshman representatives document their experience for CNN .\\nRep. Jared Polis is a Democrat representing Colorado's Second district .\\nRep. Jason Chaffetz is a Republican representing Utah's Third district .   \n",
       "...                                                                                                                                                                                                                                                                                                                                                                                                                                                                                                                     ...   \n",
       "227432  The fantastic flexibility of features makes this car great for families .\\nThe car is highly rated with more emergency braking and stability control .\\nOnly the 2.2 litre SD4 diesel version will be on sale in the UK .\\nJust in time for the Christmas break, I took the handsome new seven-seater Discovery Sport to Iceland — no, not the High Street frozen food chain, but a proper epic across ice and snow-covered landscapes on that Viking island south of the Arctic Circle.\\nWe may have been promi...   \n",
       "228230  The Passat has been around for 42 years, the first model came out in 1973 .\\nThe estate car is the fourth biggest-selling VW in the UK .\\nThe new model has everything from keyless entry to heated seats .\\nOnly diesel models will be on sale initially and there will be a beefed-up 4x4 version hitting the road in July .\\nIt's hard to believe, but the Passat has been around for 42 years. More than 22 million have been made since 1973. So this is the eighth generation. It's a proven and indefatig...   \n",
       "230603                                                                                                                                                                                                                                                                                                       Sunderland will loan Ricky Alvarez from Inter Milan .\\nNorth East club will pay £1m for the loan .\\nDeal could be made permanent if Black Cats are not relegated .\\nAlvarez has won seven caps for Argentina .   \n",
       "244504  And now for the good news . . . Following a particularly grim week, here’s a compendium of some of the world’s most comforting headlines: .\\nSupermodel Smiles On Catwalk .\\nJack Russell Dog Welcomes Stranger .\\nChild At Funfair ‘Delighted’ By Goldfish .\\nKatie Price Breasts ‘Roughly Same Size As Last Week’ Say Experts .\\nTeenager Looks Up From Phone, Greets Parent .\\nPolitical Pundits Agree To Stop Discussing Hung Parliament For Next Three Months .\\nDiner Finishes His Curly Kale .\\nPensioner...   \n",
       "267759                                                                                                                                                                                                                                                                 Autocorrect can leave the best of spellers red-faced, even at Christmas .\\nOne hilarious message threatened to take the children to see Satan - instead of Santa .\\nAnother suggests grabbing their mother a 'Horny Man' - rather than an ornament .   \n",
       "\n",
       "                                              id  \n",
       "293     9cce7373a54faccf5b5d1232c82afab9b29ab6b9  \n",
       "1511    578d4784656d2b462895cfc89b3481a231ebfb51  \n",
       "1706    86bd905861391cbd3a98de15c83768b6d1400304  \n",
       "2811    ac19c7c394491dfbf19af9b82c9f5bcf0bb3d944  \n",
       "2902    fd4bd93f0e11cec9a6c3f50441b6023b1e582581  \n",
       "...                                          ...  \n",
       "227432  312e711025d29e08594ceea541baf7903c548795  \n",
       "228230  c77118debb557d3702e6beeeb352f38bfca8b601  \n",
       "230603  3a425f9b6edb8e8ac4e763da99df3063420c9dc3  \n",
       "244504  c02baaf8e6c0cdbc4da3380403cba7acb0011d47  \n",
       "267759  c64e7bcfa684ab0212322cdcf8bb0de5629cb956  \n",
       "\n",
       "[241 rows x 3 columns]"
      ],
      "text/html": [
       "<div>\n",
       "<style scoped>\n",
       "    .dataframe tbody tr th:only-of-type {\n",
       "        vertical-align: middle;\n",
       "    }\n",
       "\n",
       "    .dataframe tbody tr th {\n",
       "        vertical-align: top;\n",
       "    }\n",
       "\n",
       "    .dataframe thead th {\n",
       "        text-align: right;\n",
       "    }\n",
       "</style>\n",
       "<table border=\"1\" class=\"dataframe\">\n",
       "  <thead>\n",
       "    <tr style=\"text-align: right;\">\n",
       "      <th></th>\n",
       "      <th>article</th>\n",
       "      <th>highlights</th>\n",
       "      <th>id</th>\n",
       "    </tr>\n",
       "  </thead>\n",
       "  <tbody>\n",
       "    <tr>\n",
       "      <th>293</th>\n",
       "      <td>• The twins get a check-up (2/26/08) • VIDEO: Nancy Grace introduces on set 2-14-08  • The twins go out for a stroll (2/11/08) • The twins at 3 months (2/4/08) • The twins in January (1/21/08) • VIDEO: First video of Nancy Grace's twins  E-mail to a friend .</td>\n",
       "      <td>Pictures of Nancy Grace's twins .\\nJohn David and Lucy Elizabeth were born November 4, 2007 .\\nCome back to this site for regularly updated pictures!</td>\n",
       "      <td>9cce7373a54faccf5b5d1232c82afab9b29ab6b9</td>\n",
       "    </tr>\n",
       "    <tr>\n",
       "      <th>1511</th>\n",
       "      <td>(CNN) -- The U.S. Commission on International Religious Freedom cited several examples in a recent report of abuse toward Christians in Iraq. Iraqis rush to a car bomb explosion at a Christian church in Kirkuk in January.</td>\n",
       "      <td>U.S. panel reports examples of intimidation, violence against Christians in Iraq .\\nReport: Christians urged to convert to Islam, attacked if they don't obey Islamic laws .\\nChristian priests, missionaries have been kidnapped and killed, report says .</td>\n",
       "      <td>578d4784656d2b462895cfc89b3481a231ebfb51</td>\n",
       "    </tr>\n",
       "    <tr>\n",
       "      <th>1706</th>\n",
       "      <td>Congressman Jared Polis . (D) Colorado: District 02 . Congressman Jason Chaffetz . (R) Utah: District 03 .</td>\n",
       "      <td>Two freshman representatives document their experience for CNN .\\nRep. Jared Polis is a Democrat representing Colorado's Second district .\\nRep. Jason Chaffetz is a Republican representing Utah's Third district .</td>\n",
       "      <td>86bd905861391cbd3a98de15c83768b6d1400304</td>\n",
       "    </tr>\n",
       "    <tr>\n",
       "      <th>2811</th>\n",
       "      <td>(CNN) -- Each year, Dr. Paul Dell and his wife, Ruthie, host Hand Camp, a refuge for children and teens with upper-limb abnormalities. Campers get to try arts and crafts, archery, and rope climbing in an environment away from teasing. The Dells, along with their staff of therapists and volunteers, work with the kids and their parents, offering advice and answering medical questions. More than 300 participated in this year's Hand Camp in Starke, Florida.</td>\n",
       "      <td>Many of the campers are patients of the camp's co-founder, Dr. Paul Dell .\\nParent sessions are held to give advice to families, especially about teasing .\\nThe camp is free and will hopefully stay free, co-founder Ruthie Dell says .</td>\n",
       "      <td>ac19c7c394491dfbf19af9b82c9f5bcf0bb3d944</td>\n",
       "    </tr>\n",
       "    <tr>\n",
       "      <th>2902</th>\n",
       "      <td>Congressman Jared Polis . (D) Colorado: District 02 . Congressman Jason Chaffetz . (R) Utah: District 03 .</td>\n",
       "      <td>Video: Hand-held cams track freshmen moves .\\nTwo freshman representatives document their experience for CNN .\\nRep. Jared Polis is a Democrat representing Colorado's Second district .\\nRep. Jason Chaffetz is a Republican representing Utah's Third district .</td>\n",
       "      <td>fd4bd93f0e11cec9a6c3f50441b6023b1e582581</td>\n",
       "    </tr>\n",
       "    <tr>\n",
       "      <th>...</th>\n",
       "      <td>...</td>\n",
       "      <td>...</td>\n",
       "      <td>...</td>\n",
       "    </tr>\n",
       "    <tr>\n",
       "      <th>227432</th>\n",
       "      <td>New Land Rover Discovery Sport . HSE Luxury 2.2L SD4 diesel . On sale: early 2015 Price: £41,195 . GOOD . Ray Massey (pictured) tests the features on the new seven-seater Land Rover Discovery Sport in Iceland . BAD .</td>\n",
       "      <td>The fantastic flexibility of features makes this car great for families .\\nThe car is highly rated with more emergency braking and stability control .\\nOnly the 2.2 litre SD4 diesel version will be on sale in the UK .\\nJust in time for the Christmas break, I took the handsome new seven-seater Discovery Sport to Iceland — no, not the High Street frozen food chain, but a proper epic across ice and snow-covered landscapes on that Viking island south of the Arctic Circle.\\nWe may have been promi...</td>\n",
       "      <td>312e711025d29e08594ceea541baf7903c548795</td>\n",
       "    </tr>\n",
       "    <tr>\n",
       "      <th>228230</th>\n",
       "      <td>Volkswagen Passat Estate SE Business 2.0 TDI 150PS . Price as driven: £31,270 . GOOD . The Volkswagen Passat Estate SE Business 2.0 TDI 150PS (pictured) is the eighth generation of the model . BAD . The Passat has been around for 42 years, pictured here is the first generation of the model in 1973 .</td>\n",
       "      <td>The Passat has been around for 42 years, the first model came out in 1973 .\\nThe estate car is the fourth biggest-selling VW in the UK .\\nThe new model has everything from keyless entry to heated seats .\\nOnly diesel models will be on sale initially and there will be a beefed-up 4x4 version hitting the road in July .\\nIt's hard to believe, but the Passat has been around for 42 years. More than 22 million have been made since 1973. So this is the eighth generation. It's a proven and indefatig...</td>\n",
       "      <td>c77118debb557d3702e6beeeb352f38bfca8b601</td>\n",
       "    </tr>\n",
       "    <tr>\n",
       "      <th>230603</th>\n",
       "      <td>Sunderland have signed Inter Milan's Ricky Alvarez on a season-long loan deal. The clubs have agreed a fee of £1million for the move but could make the deal permanent for £8.5m, assuming Sunderland stay in the Premier League. Alvarez, 26, is a 6ft 2in attacking midfielder and has been capped seven times by Argentina and was part of his country's World Cup squad in Brazil. On the move: Sunderland have signed Ricky Alvarez on loan from Inter Milan with a view to a permanent deal .</td>\n",
       "      <td>Sunderland will loan Ricky Alvarez from Inter Milan .\\nNorth East club will pay £1m for the loan .\\nDeal could be made permanent if Black Cats are not relegated .\\nAlvarez has won seven caps for Argentina .</td>\n",
       "      <td>3a425f9b6edb8e8ac4e763da99df3063420c9dc3</td>\n",
       "    </tr>\n",
       "    <tr>\n",
       "      <th>244504</th>\n",
       "      <td>Downton Abbey's famously grim butler, Mr Bates .</td>\n",
       "      <td>And now for the good news . . . Following a particularly grim week, here’s a compendium of some of the world’s most comforting headlines: .\\nSupermodel Smiles On Catwalk .\\nJack Russell Dog Welcomes Stranger .\\nChild At Funfair ‘Delighted’ By Goldfish .\\nKatie Price Breasts ‘Roughly Same Size As Last Week’ Say Experts .\\nTeenager Looks Up From Phone, Greets Parent .\\nPolitical Pundits Agree To Stop Discussing Hung Parliament For Next Three Months .\\nDiner Finishes His Curly Kale .\\nPensioner...</td>\n",
       "      <td>c02baaf8e6c0cdbc4da3380403cba7acb0011d47</td>\n",
       "    </tr>\n",
       "    <tr>\n",
       "      <th>267759</th>\n",
       "      <td>Bad spellers will rejoice at the autocorrect function on our smartphones. But without total concentration, it has a sneaky habit of twisting your words into something rather rude - even during the season of goodwill. From kissing under the camel toe, to threatening to take the kids to see Satan, damnyouautocorrect.com has put together a collection of text message showing some of the funniest autocorrects sent over the festive period.</td>\n",
       "      <td>Autocorrect can leave the best of spellers red-faced, even at Christmas .\\nOne hilarious message threatened to take the children to see Satan - instead of Santa .\\nAnother suggests grabbing their mother a 'Horny Man' - rather than an ornament .</td>\n",
       "      <td>c64e7bcfa684ab0212322cdcf8bb0de5629cb956</td>\n",
       "    </tr>\n",
       "  </tbody>\n",
       "</table>\n",
       "<p>241 rows × 3 columns</p>\n",
       "</div>"
      ]
     },
     "execution_count": 4,
     "metadata": {},
     "output_type": "execute_result"
    }
   ],
   "execution_count": 4
  },
  {
   "cell_type": "code",
   "metadata": {
    "colab": {
     "base_uri": "https://localhost:8080/"
    },
    "id": "zBeU4bnjiezq",
    "outputId": "a3a122bf-53e3-407a-b51c-769456530bde",
    "ExecuteTime": {
     "end_time": "2025-01-26T12:58:46.923218Z",
     "start_time": "2025-01-26T12:58:46.918049Z"
    }
   },
   "source": [
    "# wyświetlanie przykładowej pary tekst - streszczenie\n",
    "df_train.head(1)[[\"article\", \"highlights\"]]"
   ],
   "outputs": [
    {
     "data": {
      "text/plain": [
       "                                                                                                                                                                                                                                                                article  \\\n",
       "293  • The twins get a check-up (2/26/08) • VIDEO: Nancy Grace introduces on set 2-14-08  • The twins go out for a stroll (2/11/08) • The twins at 3 months (2/4/08) • The twins in January (1/21/08) • VIDEO: First video of Nancy Grace's twins  E-mail to a friend .   \n",
       "\n",
       "                                                                                                                                                highlights  \n",
       "293  Pictures of Nancy Grace's twins .\\nJohn David and Lucy Elizabeth were born November 4, 2007 .\\nCome back to this site for regularly updated pictures!  "
      ],
      "text/html": [
       "<div>\n",
       "<style scoped>\n",
       "    .dataframe tbody tr th:only-of-type {\n",
       "        vertical-align: middle;\n",
       "    }\n",
       "\n",
       "    .dataframe tbody tr th {\n",
       "        vertical-align: top;\n",
       "    }\n",
       "\n",
       "    .dataframe thead th {\n",
       "        text-align: right;\n",
       "    }\n",
       "</style>\n",
       "<table border=\"1\" class=\"dataframe\">\n",
       "  <thead>\n",
       "    <tr style=\"text-align: right;\">\n",
       "      <th></th>\n",
       "      <th>article</th>\n",
       "      <th>highlights</th>\n",
       "    </tr>\n",
       "  </thead>\n",
       "  <tbody>\n",
       "    <tr>\n",
       "      <th>293</th>\n",
       "      <td>• The twins get a check-up (2/26/08) • VIDEO: Nancy Grace introduces on set 2-14-08  • The twins go out for a stroll (2/11/08) • The twins at 3 months (2/4/08) • The twins in January (1/21/08) • VIDEO: First video of Nancy Grace's twins  E-mail to a friend .</td>\n",
       "      <td>Pictures of Nancy Grace's twins .\\nJohn David and Lucy Elizabeth were born November 4, 2007 .\\nCome back to this site for regularly updated pictures!</td>\n",
       "    </tr>\n",
       "  </tbody>\n",
       "</table>\n",
       "</div>"
      ]
     },
     "execution_count": 5,
     "metadata": {},
     "output_type": "execute_result"
    }
   ],
   "execution_count": 5
  },
  {
   "cell_type": "code",
   "metadata": {
    "colab": {
     "base_uri": "https://localhost:8080/"
    },
    "id": "8METFZfyjAfa",
    "outputId": "43c12da3-334a-4bb1-a7f0-f70346996ba9",
    "ExecuteTime": {
     "end_time": "2025-01-26T12:58:46.973389Z",
     "start_time": "2025-01-26T12:58:46.970133Z"
    }
   },
   "source": [
    "# średnia długość tekstu i średnia długość streszczeń\n",
    "import numpy as np\n",
    "\n",
    "def words_count(text):\n",
    "    return len(text.split())\n",
    "\n",
    "text_len = [words_count(x) for x in df_train[\"article\"]]\n",
    "summary_len = [words_count(x) for x in df_train[\"highlights\"]]\n",
    "\n",
    "print(f\"średnia długość tekstu (wyrazy): {np.mean(text_len)}\")\n",
    "print(f\"średnia długość streszczeń (wyrazy): {np.mean(summary_len)}\")"
   ],
   "outputs": [
    {
     "name": "stdout",
     "output_type": "stream",
     "text": [
      "średnia długość tekstu (wyrazy): 62.88796680497925\n",
      "średnia długość streszczeń (wyrazy): 39.25311203319502\n"
     ]
    }
   ],
   "execution_count": 6
  },
  {
   "cell_type": "code",
   "metadata": {
    "colab": {
     "base_uri": "https://localhost:8080/"
    },
    "id": "g8d62PIrV_4r",
    "outputId": "852c4579-3e0f-4ab5-9e74-c9dfad6565d0",
    "ExecuteTime": {
     "end_time": "2025-01-26T12:58:47.029063Z",
     "start_time": "2025-01-26T12:58:47.027002Z"
    }
   },
   "source": [
    "ratios = [s_len / t_len for s_len, t_len in zip(summary_len, text_len)]\n",
    "print(f\"Średnia proporcja długości streszczeń do tekstów: {np.mean(ratios):.2f}\")\n"
   ],
   "outputs": [
    {
     "name": "stdout",
     "output_type": "stream",
     "text": [
      "Średnia proporcja długości streszczeń do tekstów: 0.75\n"
     ]
    }
   ],
   "execution_count": 7
  },
  {
   "cell_type": "code",
   "metadata": {
    "colab": {
     "base_uri": "https://localhost:8080/",
     "height": 565
    },
    "id": "1oUj3H26UvJ5",
    "outputId": "364e8669-c457-4375-aadf-ec10d6de6459",
    "ExecuteTime": {
     "end_time": "2025-01-26T12:58:47.407372Z",
     "start_time": "2025-01-26T12:58:47.068804Z"
    }
   },
   "source": [
    "import matplotlib.pyplot as plt\n",
    "\n",
    "# Histogramy\n",
    "plt.figure(figsize=(12, 6))\n",
    "plt.hist(text_len, bins=50, alpha=0.7, label=\"Długości tekstów\")\n",
    "plt.hist(summary_len, bins=50, alpha=0.7, label=\"Długości streszczeń\")\n",
    "plt.legend()\n",
    "plt.title(\"Histogram długości tekstów i streszczeń\")\n",
    "plt.xlabel(\"Długość\")\n",
    "plt.ylabel(\"Liczba przykładów\")\n",
    "plt.show()\n"
   ],
   "outputs": [
    {
     "data": {
      "text/plain": [
       "<Figure size 1200x600 with 1 Axes>"
      ],
      "image/png": "[encoded data removed]"
     },
     "metadata": {},
     "output_type": "display_data"
    }
   ],
   "execution_count": 8
  },
  {
   "cell_type": "code",
   "metadata": {
    "colab": {
     "base_uri": "https://localhost:8080/"
    },
    "id": "T3u-q7GXVklR",
    "outputId": "4658c254-7b02-4851-ce00-8954f6199eee",
    "ExecuteTime": {
     "end_time": "2025-01-26T12:58:47.495174Z",
     "start_time": "2025-01-26T12:58:47.485390Z"
    }
   },
   "source": [
    "# Najdłuższy i najkrótszy artykuł\n",
    "longest_article = max(df_train[\"article\"], key=lambda x: words_count(x))\n",
    "shortest_article = min(df_train[\"article\"], key=lambda x: words_count(x))\n",
    "\n",
    "print(f\"Najdłuższy artykuł (liczba słów: {words_count(longest_article)}):\\n{longest_article[:500]}...\\n\")\n",
    "print(f\"Najkrótszy artykuł (liczba słów: {words_count(shortest_article)}):\\n{shortest_article[:500]}\\n\")\n",
    "\n",
    "# Najdłuższe i najkrótsze streszczenie\n",
    "longest_summary = max(df_train[\"highlights\"], key=lambda x: words_count(x))\n",
    "shortest_summary = min(df_train[\"highlights\"], key=lambda x: words_count(x))\n",
    "\n",
    "print(f\"Najdłuższe streszczenie (liczba słów: {words_count(longest_summary)}):\\n{longest_summary[:500]}...\\n\")\n",
    "print(f\"Najkrótsze streszczenie (liczba słów: {words_count(shortest_summary)}):\\n{shortest_summary[:500]}\\n\")"
   ],
   "outputs": [
    {
     "name": "stdout",
     "output_type": "stream",
     "text": [
      "Najdłuższy artykuł (liczba słów: 90):\n",
      "(CNN) -- This time of year, it seems like a new phone comes out every couple days. With the Apple's brand-new iPhone 5 now on sale, here's a roundup of some of the hottest smartphones on the market, along with a few that are coming soon. Many of these gadgets are getting faster and bigger -- so big, in some cases, they won't fit in a pocket. For the most part, tactile keyboards are disappearing, too. Take a look and let us know what you think in the comments section....\n",
      "\n",
      "Najkrótszy artykuł (liczba słów: 8):\n",
      "Downton Abbey's famously grim butler, Mr Bates .\n",
      "\n",
      "Najdłuższe streszczenie (liczba słów: 662):\n",
      "The Passat has been around for 42 years, the first model came out in 1973 .\n",
      "The estate car is the fourth biggest-selling VW in the UK .\n",
      "The new model has everything from keyless entry to heated seats .\n",
      "Only diesel models will be on sale initially and there will be a beefed-up 4x4 version hitting the road in July .\n",
      "It's hard to believe, but the Passat has been around for 42 years. More than 22 million have been made since 1973. So this is the eighth generation. It's a proven and indefatigable wor...\n",
      "\n",
      "Najkrótsze streszczenie (liczba słów: 13):\n",
      "Coast Guard trying to contain the situation .\n",
      "The cause under investigation .\n",
      "\n"
     ]
    }
   ],
   "execution_count": 9
  },
  {
   "cell_type": "code",
   "metadata": {
    "ExecuteTime": {
     "end_time": "2025-01-26T12:58:47.522963Z",
     "start_time": "2025-01-26T12:58:47.511630Z"
    }
   },
   "source": [
    "from collections import Counter\n",
    "\n",
    "# Tokenizacja i liczenie słów\n",
    "df_train['article_word_count'] = df_train['article'].apply(lambda x: words_count(x))\n",
    "df_train['summary_word_count'] = df_train['highlights'].apply(lambda x: words_count(x))\n",
    "\n",
    "# Najczęściej występujące słowa w streszczeniach\n",
    "all_summaries = \" \".join(df_train['highlights'])\n",
    "word_counts = Counter(all_summaries.split())\n",
    "print(word_counts.most_common(10))\n"
   ],
   "outputs": [
    {
     "name": "stdout",
     "output_type": "stream",
     "text": [
      "[('.', 664), ('the', 301), ('of', 269), ('to', 266), ('and', 185), ('a', 178), ('CNN', 155), ('on', 153), ('in', 150), ('The', 150)]\n"
     ]
    }
   ],
   "execution_count": 10
  },
  {
   "cell_type": "markdown",
   "metadata": {},
   "source": [
    "## Inżynieria cech"
   ]
  },
  {
   "cell_type": "code",
   "metadata": {
    "ExecuteTime": {
     "end_time": "2025-01-26T12:58:47.565234Z",
     "start_time": "2025-01-26T12:58:47.553194Z"
    }
   },
   "source": [
    "import re\n",
    "\n",
    "def clean_text(text):\n",
    "  text = re.sub(r'http[s]?://\\S+', '', text)\n",
    "  text = text.strip().replace('\\n', ' ').replace('\\r', ' ')\n",
    "  text = re.sub(r'\\s+', ' ', text)\n",
    "  return text\n",
    "\n",
    "train_data = ds['train'].filter(lambda row: len(row['article']) < cap)\n",
    "train_data = train_data_map = train_data.map(lambda x: {'article': clean_text(x['article']), 'highlights': clean_text(x['highlights'])})\n",
    "val_data = ds['validation'].filter(lambda row: len(row['article']) < cap).map(lambda x: {'article': clean_text(x['article']), 'highlights': clean_text(x['highlights'])})\n",
    "test_data = ds['test'].filter(lambda row: len(row['article']) < cap).map(lambda x: {'article': clean_text(x['article']), 'highlights': clean_text(x['highlights'])})\n",
    "\n",
    "train_data[:2], val_data[:2], test_data[:2]"
   ],
   "outputs": [
    {
     "data": {
      "text/plain": [
       "({'article': [\"• The twins get a check-up (2/26/08) • VIDEO: Nancy Grace introduces on set 2-14-08 • The twins go out for a stroll (2/11/08) • The twins at 3 months (2/4/08) • The twins in January (1/21/08) • VIDEO: First video of Nancy Grace's twins E-mail to a friend .\",\n",
       "   '(CNN) -- The U.S. Commission on International Religious Freedom cited several examples in a recent report of abuse toward Christians in Iraq. Iraqis rush to a car bomb explosion at a Christian church in Kirkuk in January.'],\n",
       "  'highlights': [\"Pictures of Nancy Grace's twins . John David and Lucy Elizabeth were born November 4, 2007 . Come back to this site for regularly updated pictures!\",\n",
       "   \"U.S. panel reports examples of intimidation, violence against Christians in Iraq . Report: Christians urged to convert to Islam, attacked if they don't obey Islamic laws . Christian priests, missionaries have been kidnapped and killed, report says .\"],\n",
       "  'id': ['9cce7373a54faccf5b5d1232c82afab9b29ab6b9',\n",
       "   '578d4784656d2b462895cfc89b3481a231ebfb51']},\n",
       " {'article': ['Racing experts Peter Scudamore and Sam Turner review the best of the action from Ladies Day at the Cheltenham Festival. Among the highlights was Sam Twiston-Davies and Dodging Bullets winning the Queen Mother Champion Chase. The action gets underway again at 1.30pm on Thursday. Stick with MailOnline Sport for the best build-up to and coverage of the greatest show on turf.',\n",
       "   \"The Formula One circus takes on five continents over eight months of gruelling action in 2015. Click on Sportsmail's brilliant interactive guide below to find out everything you need to know about the 20 races which make up this year's calendar.\"],\n",
       "  'highlights': [\"Peter Scudamore and Sam Turner review the best of Wednesday's action . Dodging Bullets won the feature race, the Queen Mother Champion Chase . READ: Cheltenham Festival 2015 racing tips day two .\",\n",
       "   'Lewis Hamilton and Nico Rosberg are expected to renew their championship rivalry after their brilliant battle in 2014 . The Formula One circus will take on five continents over eight gruelling months of grand prix racing . The season starts in Melbourne, Australia on March 15 and ends in Abu Dhabi on the final weekend in November . Mexico returns to the F1 calendar for the first time in two decades, but the German GP remains up in the air . CLICK HERE for all the latest F1 news .'],\n",
       "  'id': ['d58368888fd9fab22af5ad231b7b054f24f6942b',\n",
       "   'cbc7bc8dc746845435064e23e1d6ae95dacc0b38']},\n",
       " {'article': ['(CNN)Justin Timberlake and Jessica Biel, welcome to parenthood. The celebrity couple announced the arrival of their son, Silas Randall Timberlake, in statements to People. \"Silas was the middle name of Timberlake\\'s maternal grandfather Bill Bomar, who died in 2012, while Randall is the musician\\'s own middle name, as well as his father\\'s first,\" People reports. The couple announced the pregnancy in January, with an Instagram post. It is the first baby for both.',\n",
       "   \"Reanne Evans, the 10-time ladies' snooker world champion, begins her bid to make history and reach the World Championship finals. The 29-year-old from Dudley would be the first woman ever to reach The Crucible should she win three qualifiers, but she faces a tough start in the form of 1997 world champion Ken Doherty. Watch all the action below with our live video. Reanne Evans faces Ken Doherty (right) in her first qualifier for the World Championship .\"],\n",
       "  'highlights': ['Timberlake and Biel welcome son Silas Randall Timberlake . The couple announced the pregnancy in January .',\n",
       "   \"Reanne Evans is bidding to make snooker history . She is three matches away from reaching the World Championship . No woman has ever played in the finals at The Crucible . Evans's first qualifier is against 1997 world champion Ken Doherty .\"],\n",
       "  'id': ['20779abc400c083fc8e37532cc9c1a24b7f19b28',\n",
       "   '0eaca57d63362bfaed828db53a244c53ee027eb3']})"
      ]
     },
     "execution_count": 11,
     "metadata": {},
     "output_type": "execute_result"
    }
   ],
   "execution_count": 11
  },
  {
   "cell_type": "code",
   "metadata": {
    "ExecuteTime": {
     "end_time": "2025-01-26T12:58:49.315386Z",
     "start_time": "2025-01-26T12:58:47.573870Z"
    }
   },
   "source": [
    "from transformers import AutoTokenizer\n",
    "\n",
    "model_name = \"t5-small\"\n",
    "tokenizer = AutoTokenizer.from_pretrained(model_name)\n",
    "\n",
    "def tokenize_data(examples):\n",
    "    inputs = [f\"summarize: {article}\" for article in examples['article']]\n",
    "    targets = examples['highlights']\n",
    "\n",
    "    model_inputs = tokenizer(\n",
    "        inputs,\n",
    "        max_length=512,\n",
    "        truncation=True,\n",
    "        padding=\"max_length\",\n",
    "        return_tensors=\"pt\",\n",
    "    )\n",
    "\n",
    "    model_inputs['labels'] = tokenizer(\n",
    "        targets,\n",
    "        max_length=150,\n",
    "        truncation=True,\n",
    "        padding=\"max_length\",\n",
    "        return_tensors=\"pt\",\n",
    "    )['input_ids']\n",
    "\n",
    "    return model_inputs\n",
    "\n",
    "train_data_tokenized = train_data.map(\n",
    "    tokenize_data,\n",
    "    batched=True,\n",
    "    remove_columns=['article', 'highlights'],\n",
    "    batch_size=128,\n",
    ")\n",
    "\n",
    "val_data_tokenized = val_data.map(\n",
    "    tokenize_data,\n",
    "    batched=True,\n",
    "    remove_columns=['article', 'highlights'],\n",
    "    batch_size=128,\n",
    ")\n",
    "\n",
    "test_data_tokenized = test_data.map(\n",
    "    tokenize_data,\n",
    "    batched=True,\n",
    "    remove_columns=['article', 'highlights'],\n",
    "    batch_size=128,\n",
    ")\n",
    "\n",
    "train_data_tokenized = train_data_tokenized.with_format(\"torch\")\n",
    "val_data_tokenized = val_data_tokenized.with_format(\"torch\")\n",
    "test_data_tokenized = test_data_tokenized.with_format(\"torch\")\n",
    "\n",
    "print(train_data_tokenized[0])"
   ],
   "outputs": [
    {
     "name": "stdout",
     "output_type": "stream",
     "text": [
      "{'id': '9cce7373a54faccf5b5d1232c82afab9b29ab6b9', 'input_ids': tensor([21603,    10,  1697,    37,  7390,     7,   129,     3,     9,   691,\n",
      "           18,   413,  4743,    87,  2688,    87,  4018,    61,  1697,   584,\n",
      "        13162,   667,    10, 17117, 12254,  4277,     7,    30,   356,   204,\n",
      "        11590,    18,  4018,  1697,    37,  7390,     7,   281,    91,    21,\n",
      "            3,     9, 13593,  4743, 20223,    87,  4018,    61,  1697,    37,\n",
      "         7390,     7,    44,   220,   767,  4743, 13572,    87,  4018,    61,\n",
      "         1697,    37,  7390,     7,    16,  1762,    41, 17637, 12989,  4018,\n",
      "           61,  1697,   584, 13162,   667,    10,  1485,   671,    13, 17117,\n",
      "        12254,    31,     7,  7390,     7,   262,    18,  1963,    12,     3,\n",
      "            9,  1565,     3,     5,     1,     0,     0,     0,     0,     0,\n",
      "            0,     0,     0,     0,     0,     0,     0,     0,     0,     0,\n",
      "            0,     0,     0,     0,     0,     0,     0,     0,     0,     0,\n",
      "            0,     0,     0,     0,     0,     0,     0,     0,     0,     0,\n",
      "            0,     0,     0,     0,     0,     0,     0,     0,     0,     0,\n",
      "            0,     0,     0,     0,     0,     0,     0,     0,     0,     0,\n",
      "            0,     0,     0,     0,     0,     0,     0,     0,     0,     0,\n",
      "            0,     0,     0,     0,     0,     0,     0,     0,     0,     0,\n",
      "            0,     0,     0,     0,     0,     0,     0,     0,     0,     0,\n",
      "            0,     0,     0,     0,     0,     0,     0,     0,     0,     0,\n",
      "            0,     0,     0,     0,     0,     0,     0,     0,     0,     0,\n",
      "            0,     0,     0,     0,     0,     0,     0,     0,     0,     0,\n",
      "            0,     0,     0,     0,     0,     0,     0,     0,     0,     0,\n",
      "            0,     0,     0,     0,     0,     0,     0,     0,     0,     0,\n",
      "            0,     0,     0,     0,     0,     0,     0,     0,     0,     0,\n",
      "            0,     0,     0,     0,     0,     0,     0,     0,     0,     0,\n",
      "            0,     0,     0,     0,     0,     0,     0,     0,     0,     0,\n",
      "            0,     0,     0,     0,     0,     0,     0,     0,     0,     0,\n",
      "            0,     0,     0,     0,     0,     0,     0,     0,     0,     0,\n",
      "            0,     0,     0,     0,     0,     0,     0,     0,     0,     0,\n",
      "            0,     0,     0,     0,     0,     0,     0,     0,     0,     0,\n",
      "            0,     0,     0,     0,     0,     0,     0,     0,     0,     0,\n",
      "            0,     0,     0,     0,     0,     0,     0,     0,     0,     0,\n",
      "            0,     0,     0,     0,     0,     0,     0,     0,     0,     0,\n",
      "            0,     0,     0,     0,     0,     0,     0,     0,     0,     0,\n",
      "            0,     0,     0,     0,     0,     0,     0,     0,     0,     0,\n",
      "            0,     0,     0,     0,     0,     0,     0,     0,     0,     0,\n",
      "            0,     0,     0,     0,     0,     0,     0,     0,     0,     0,\n",
      "            0,     0,     0,     0,     0,     0,     0,     0,     0,     0,\n",
      "            0,     0,     0,     0,     0,     0,     0,     0,     0,     0,\n",
      "            0,     0,     0,     0,     0,     0,     0,     0,     0,     0,\n",
      "            0,     0,     0,     0,     0,     0,     0,     0,     0,     0,\n",
      "            0,     0,     0,     0,     0,     0,     0,     0,     0,     0,\n",
      "            0,     0,     0,     0,     0,     0,     0,     0,     0,     0,\n",
      "            0,     0,     0,     0,     0,     0,     0,     0,     0,     0,\n",
      "            0,     0,     0,     0,     0,     0,     0,     0,     0,     0,\n",
      "            0,     0,     0,     0,     0,     0,     0,     0,     0,     0,\n",
      "            0,     0,     0,     0,     0,     0,     0,     0,     0,     0,\n",
      "            0,     0,     0,     0,     0,     0,     0,     0,     0,     0,\n",
      "            0,     0,     0,     0,     0,     0,     0,     0,     0,     0,\n",
      "            0,     0,     0,     0,     0,     0,     0,     0,     0,     0,\n",
      "            0,     0,     0,     0,     0,     0,     0,     0,     0,     0,\n",
      "            0,     0]), 'attention_mask': tensor([1, 1, 1, 1, 1, 1, 1, 1, 1, 1, 1, 1, 1, 1, 1, 1, 1, 1, 1, 1, 1, 1, 1, 1,\n",
      "        1, 1, 1, 1, 1, 1, 1, 1, 1, 1, 1, 1, 1, 1, 1, 1, 1, 1, 1, 1, 1, 1, 1, 1,\n",
      "        1, 1, 1, 1, 1, 1, 1, 1, 1, 1, 1, 1, 1, 1, 1, 1, 1, 1, 1, 1, 1, 1, 1, 1,\n",
      "        1, 1, 1, 1, 1, 1, 1, 1, 1, 1, 1, 1, 1, 1, 1, 1, 1, 1, 1, 1, 1, 1, 1, 0,\n",
      "        0, 0, 0, 0, 0, 0, 0, 0, 0, 0, 0, 0, 0, 0, 0, 0, 0, 0, 0, 0, 0, 0, 0, 0,\n",
      "        0, 0, 0, 0, 0, 0, 0, 0, 0, 0, 0, 0, 0, 0, 0, 0, 0, 0, 0, 0, 0, 0, 0, 0,\n",
      "        0, 0, 0, 0, 0, 0, 0, 0, 0, 0, 0, 0, 0, 0, 0, 0, 0, 0, 0, 0, 0, 0, 0, 0,\n",
      "        0, 0, 0, 0, 0, 0, 0, 0, 0, 0, 0, 0, 0, 0, 0, 0, 0, 0, 0, 0, 0, 0, 0, 0,\n",
      "        0, 0, 0, 0, 0, 0, 0, 0, 0, 0, 0, 0, 0, 0, 0, 0, 0, 0, 0, 0, 0, 0, 0, 0,\n",
      "        0, 0, 0, 0, 0, 0, 0, 0, 0, 0, 0, 0, 0, 0, 0, 0, 0, 0, 0, 0, 0, 0, 0, 0,\n",
      "        0, 0, 0, 0, 0, 0, 0, 0, 0, 0, 0, 0, 0, 0, 0, 0, 0, 0, 0, 0, 0, 0, 0, 0,\n",
      "        0, 0, 0, 0, 0, 0, 0, 0, 0, 0, 0, 0, 0, 0, 0, 0, 0, 0, 0, 0, 0, 0, 0, 0,\n",
      "        0, 0, 0, 0, 0, 0, 0, 0, 0, 0, 0, 0, 0, 0, 0, 0, 0, 0, 0, 0, 0, 0, 0, 0,\n",
      "        0, 0, 0, 0, 0, 0, 0, 0, 0, 0, 0, 0, 0, 0, 0, 0, 0, 0, 0, 0, 0, 0, 0, 0,\n",
      "        0, 0, 0, 0, 0, 0, 0, 0, 0, 0, 0, 0, 0, 0, 0, 0, 0, 0, 0, 0, 0, 0, 0, 0,\n",
      "        0, 0, 0, 0, 0, 0, 0, 0, 0, 0, 0, 0, 0, 0, 0, 0, 0, 0, 0, 0, 0, 0, 0, 0,\n",
      "        0, 0, 0, 0, 0, 0, 0, 0, 0, 0, 0, 0, 0, 0, 0, 0, 0, 0, 0, 0, 0, 0, 0, 0,\n",
      "        0, 0, 0, 0, 0, 0, 0, 0, 0, 0, 0, 0, 0, 0, 0, 0, 0, 0, 0, 0, 0, 0, 0, 0,\n",
      "        0, 0, 0, 0, 0, 0, 0, 0, 0, 0, 0, 0, 0, 0, 0, 0, 0, 0, 0, 0, 0, 0, 0, 0,\n",
      "        0, 0, 0, 0, 0, 0, 0, 0, 0, 0, 0, 0, 0, 0, 0, 0, 0, 0, 0, 0, 0, 0, 0, 0,\n",
      "        0, 0, 0, 0, 0, 0, 0, 0, 0, 0, 0, 0, 0, 0, 0, 0, 0, 0, 0, 0, 0, 0, 0, 0,\n",
      "        0, 0, 0, 0, 0, 0, 0, 0]), 'labels': tensor([16571,    13, 17117, 12254,    31,     7,  7390,     7,     3,     5,\n",
      "         1079,  1955,    11, 21812,  9066,   130,  2170,  1671,  6464,  4101,\n",
      "            3,     5,  4589,   223,    12,    48,   353,    21,  3842,  3250,\n",
      "         1933,    55,     1,     0,     0,     0,     0,     0,     0,     0,\n",
      "            0,     0,     0,     0,     0,     0,     0,     0,     0,     0,\n",
      "            0,     0,     0,     0,     0,     0,     0,     0,     0,     0,\n",
      "            0,     0,     0,     0,     0,     0,     0,     0,     0,     0,\n",
      "            0,     0,     0,     0,     0,     0,     0,     0,     0,     0,\n",
      "            0,     0,     0,     0,     0,     0,     0,     0,     0,     0,\n",
      "            0,     0,     0,     0,     0,     0,     0,     0,     0,     0,\n",
      "            0,     0,     0,     0,     0,     0,     0,     0,     0,     0,\n",
      "            0,     0,     0,     0,     0,     0,     0,     0,     0,     0,\n",
      "            0,     0,     0,     0,     0,     0,     0,     0,     0,     0,\n",
      "            0,     0,     0,     0,     0,     0,     0,     0,     0,     0,\n",
      "            0,     0,     0,     0,     0,     0,     0,     0,     0,     0])}\n"
     ]
    }
   ],
   "execution_count": 12
  },
  {
   "cell_type": "code",
   "metadata": {
    "ExecuteTime": {
     "end_time": "2025-01-26T12:58:49.327086Z",
     "start_time": "2025-01-26T12:58:49.325110Z"
    }
   },
   "source": [
    "train_data_tokenized"
   ],
   "outputs": [
    {
     "data": {
      "text/plain": [
       "Dataset({\n",
       "    features: ['id', 'input_ids', 'attention_mask', 'labels'],\n",
       "    num_rows: 241\n",
       "})"
      ]
     },
     "execution_count": 13,
     "metadata": {},
     "output_type": "execute_result"
    }
   ],
   "execution_count": 13
  },
  {
   "cell_type": "markdown",
   "metadata": {},
   "source": [
    "## Model"
   ]
  },
  {
   "cell_type": "code",
   "metadata": {
    "ExecuteTime": {
     "end_time": "2025-01-26T12:58:50.688429Z",
     "start_time": "2025-01-26T12:58:49.347358Z"
    }
   },
   "source": [
    "from evaluate import load\n",
    "\n",
    "rouge = load(\"rouge\")\n",
    "\n",
    "def compute_metrics(p):\n",
    "    predictions, labels = p\n",
    "    decoded_preds = tokenizer.batch_decode(predictions, skip_special_tokens=True)\n",
    "    decoded_labels = tokenizer.batch_decode(labels, skip_special_tokens=True)\n",
    "    result = rouge.compute(predictions=decoded_preds, references=decoded_labels)\n",
    "    return result"
   ],
   "outputs": [],
   "execution_count": 14
  },
  {
   "cell_type": "code",
   "metadata": {
    "ExecuteTime": {
     "end_time": "2025-01-26T13:00:17.360936Z",
     "start_time": "2025-01-26T12:58:50.708818Z"
    }
   },
   "source": [
    "from transformers import AutoModelForSeq2SeqLM, Seq2SeqTrainingArguments, Seq2SeqTrainer\n",
    "\n",
    "model = AutoModelForSeq2SeqLM.from_pretrained(model_name)\n",
    "\n",
    "training_args = Seq2SeqTrainingArguments(\n",
    "    output_dir=\"./results\",\n",
    "    eval_strategy=\"epoch\",\n",
    "    save_strategy=\"epoch\",\n",
    "    learning_rate=5e-5,\n",
    "    per_device_train_batch_size=16,\n",
    "    per_device_eval_batch_size=16,\n",
    "    gradient_accumulation_steps=2,\n",
    "    weight_decay=0.01,\n",
    "    save_total_limit=3,\n",
    "    num_train_epochs=5,\n",
    "    predict_with_generate=True,\n",
    "    logging_dir='./logs',\n",
    "    logging_steps=100,\n",
    "    load_best_model_at_end=True,\n",
    "    metric_for_best_model=\"eval_loss\",\n",
    "    greater_is_better=False,\n",
    "    save_steps=1000,\n",
    ")\n",
    "\n",
    "trainer = Seq2SeqTrainer(\n",
    "    model=model,\n",
    "    args=training_args,\n",
    "    train_dataset=train_data_tokenized,\n",
    "    eval_dataset=val_data_tokenized,\n",
    "    processing_class=tokenizer,\n",
    "    compute_metrics=compute_metrics\n",
    ")\n",
    "\n",
    "trainer.train()"
   ],
   "outputs": [
    {
     "name": "stderr",
     "output_type": "stream",
     "text": [
      "Passing a tuple of `past_key_values` is deprecated and will be removed in Transformers v4.48.0. You should pass an instance of `EncoderDecoderCache` instead, e.g. `past_key_values=EncoderDecoderCache.from_legacy_cache(past_key_values)`.\n"
     ]
    },
    {
     "data": {
      "text/plain": [
       "<IPython.core.display.HTML object>"
      ],
      "text/html": [
       "\n",
       "    <div>\n",
       "      \n",
       "      <progress value='40' max='40' style='width:300px; height:20px; vertical-align: middle;'></progress>\n",
       "      [40/40 01:19, Epoch 5/5]\n",
       "    </div>\n",
       "    <table border=\"1\" class=\"dataframe\">\n",
       "  <thead>\n",
       " <tr style=\"text-align: left;\">\n",
       "      <th>Epoch</th>\n",
       "      <th>Training Loss</th>\n",
       "      <th>Validation Loss</th>\n",
       "      <th>Rouge1</th>\n",
       "      <th>Rouge2</th>\n",
       "      <th>Rougel</th>\n",
       "      <th>Rougelsum</th>\n",
       "    </tr>\n",
       "  </thead>\n",
       "  <tbody>\n",
       "    <tr>\n",
       "      <td>1</td>\n",
       "      <td>No log</td>\n",
       "      <td>5.865154</td>\n",
       "      <td>0.290445</td>\n",
       "      <td>0.154126</td>\n",
       "      <td>0.236139</td>\n",
       "      <td>0.236139</td>\n",
       "    </tr>\n",
       "    <tr>\n",
       "      <td>2</td>\n",
       "      <td>No log</td>\n",
       "      <td>4.369692</td>\n",
       "      <td>0.290445</td>\n",
       "      <td>0.154126</td>\n",
       "      <td>0.236139</td>\n",
       "      <td>0.236139</td>\n",
       "    </tr>\n",
       "    <tr>\n",
       "      <td>3</td>\n",
       "      <td>No log</td>\n",
       "      <td>3.471641</td>\n",
       "      <td>0.309612</td>\n",
       "      <td>0.149724</td>\n",
       "      <td>0.231992</td>\n",
       "      <td>0.227494</td>\n",
       "    </tr>\n",
       "    <tr>\n",
       "      <td>4</td>\n",
       "      <td>No log</td>\n",
       "      <td>3.063785</td>\n",
       "      <td>0.286806</td>\n",
       "      <td>0.137715</td>\n",
       "      <td>0.224193</td>\n",
       "      <td>0.222471</td>\n",
       "    </tr>\n",
       "    <tr>\n",
       "      <td>5</td>\n",
       "      <td>No log</td>\n",
       "      <td>2.950864</td>\n",
       "      <td>0.264139</td>\n",
       "      <td>0.120572</td>\n",
       "      <td>0.199805</td>\n",
       "      <td>0.199805</td>\n",
       "    </tr>\n",
       "  </tbody>\n",
       "</table><p>"
      ]
     },
     "metadata": {},
     "output_type": "display_data"
    },
    {
     "name": "stderr",
     "output_type": "stream",
     "text": [
      "There were missing keys in the checkpoint model loaded: ['encoder.embed_tokens.weight', 'decoder.embed_tokens.weight', 'lm_head.weight'].\n"
     ]
    },
    {
     "data": {
      "text/plain": [
       "TrainOutput(global_step=40, training_loss=5.428196716308594, metrics={'train_runtime': 85.8084, 'train_samples_per_second': 14.043, 'train_steps_per_second': 0.466, 'total_flos': 163086870773760.0, 'train_loss': 5.428196716308594, 'epoch': 5.0})"
      ]
     },
     "execution_count": 15,
     "metadata": {},
     "output_type": "execute_result"
    }
   ],
   "execution_count": 15
  },
  {
   "cell_type": "code",
   "metadata": {
    "ExecuteTime": {
     "end_time": "2025-01-26T13:00:18.110870Z",
     "start_time": "2025-01-26T13:00:17.390678Z"
    }
   },
   "source": [
    "results = trainer.evaluate(eval_dataset=val_data_tokenized)\n",
    "print(results)"
   ],
   "outputs": [
    {
     "data": {
      "text/plain": [
       "<IPython.core.display.HTML object>"
      ],
      "text/html": [
       "\n",
       "    <div>\n",
       "      \n",
       "      <progress value='2' max='1' style='width:300px; height:20px; vertical-align: middle;'></progress>\n",
       "      [1/1 00:01]\n",
       "    </div>\n",
       "    "
      ]
     },
     "metadata": {},
     "output_type": "display_data"
    },
    {
     "name": "stdout",
     "output_type": "stream",
     "text": [
      "{'eval_loss': 2.950863838195801, 'eval_rouge1': 0.26413924680139245, 'eval_rouge2': 0.12057245080500896, 'eval_rougeL': 0.19980481335804814, 'eval_rougeLsum': 0.19980481335804814, 'eval_runtime': 0.7163, 'eval_samples_per_second': 6.98, 'eval_steps_per_second': 1.396, 'epoch': 5.0}\n"
     ]
    }
   ],
   "execution_count": 16
  },
  {
   "cell_type": "code",
   "metadata": {
    "ExecuteTime": {
     "end_time": "2025-01-26T13:00:19.652545Z",
     "start_time": "2025-01-26T13:00:18.114748Z"
    }
   },
   "source": [
    "test_results = trainer.evaluate(eval_dataset=test_data_tokenized)\n",
    "print(test_results)"
   ],
   "outputs": [
    {
     "name": "stdout",
     "output_type": "stream",
     "text": [
      "{'eval_loss': 3.0521738529205322, 'eval_rouge1': 0.21697094973193018, 'eval_rouge2': 0.0998015666053883, 'eval_rougeL': 0.18244975159094057, 'eval_rougeLsum': 0.18155494728385202, 'eval_runtime': 1.5349, 'eval_samples_per_second': 5.864, 'eval_steps_per_second': 0.652, 'epoch': 5.0}\n"
     ]
    }
   ],
   "execution_count": 17
  },
  {
   "cell_type": "code",
   "metadata": {
    "ExecuteTime": {
     "end_time": "2025-01-26T13:00:21.721236Z",
     "start_time": "2025-01-26T13:00:19.662843Z"
    }
   },
   "source": [
    "import torch\n",
    "\n",
    "device = torch.device(\"cuda\" if torch.cuda.is_available() else \"cpu\")\n",
    "model = model.to(device)\n",
    "\n",
    "test_sample = test_data_tokenized[1]\n",
    "decoded_input = tokenizer.decode(test_sample['input_ids'], skip_special_tokens=True)\n",
    "print(decoded_input)\n",
    "\n",
    "input_ids = test_sample['input_ids']\n",
    "outputs = model.generate(input_ids=input_ids.unsqueeze(0), max_length=250, num_beams=4, no_repeat_ngram_size=2, temperature=1.0)\n",
    "print(f\"TYPE: type{outputs}\")\n",
    "\n",
    "decoded_output = tokenizer.decode(outputs[0], skip_special_tokens=True)\n",
    "print(decoded_output)"
   ],
   "outputs": [
    {
     "name": "stdout",
     "output_type": "stream",
     "text": [
      "summarize: Reanne Evans, the 10-time ladies' snooker world champion, begins her bid to make history and reach the World Championship finals. The 29-year-old from Dudley would be the first woman ever to reach The Crucible should she win three qualifiers, but she faces a tough start in the form of 1997 world champion Ken Doherty. Watch all the action below with our live video. Reanne Evans faces Ken Doherty (right) in her first qualifier for the World Championship.\n",
      "TYPE: typetensor([[    0,     8,  9445,   715, 10989,    31,     3,     7, 22563,    49,\n",
      "           296,  6336,  4396,   160,  6894,    12,   143,   892,    11,  1535,\n",
      "             8,   296, 10183,   804,     7,     3,     5,     8,  2838,    18,\n",
      "          1201,    18,  1490,   133,    36,     8,   166,  2335,   664,    12,\n",
      "          1535,    37, 30701,  2296,     3,    99,   255,  1369,   386, 10597,\n",
      "           277,     6,    68,   255,  8519,     3,     9,  3429,   456,    16,\n",
      "             8,   607,    13,  6622,   296, 16127,  5704,   531,   760,    17,\n",
      "            63,     5,  1605,    66,     8,  1041,   666,    28,    69,   619,\n",
      "           671,     5,     1]])\n",
      "the 10-time ladies' snooker world champion begins her bid to make history and reach the world championship finals. the 29-year-old would be the first woman ever to reach The Crucible if she win three qualifiers, but she faces a tough start in the form of 1997 world Champion Ken Doherty. watch all the action below with our live video.\n"
     ]
    }
   ],
   "execution_count": 18
  },
  {
   "cell_type": "code",
   "metadata": {
    "ExecuteTime": {
     "end_time": "2025-01-26T13:00:21.875523Z",
     "start_time": "2025-01-26T13:00:21.735820Z"
    }
   },
   "source": [
    "model.save_pretrained(\"./fine_tuned_model\")\n",
    "tokenizer.save_pretrained(\"./fine_tuned_model\")"
   ],
   "outputs": [
    {
     "data": {
      "text/plain": [
       "('./fine_tuned_model/tokenizer_config.json',\n",
       " './fine_tuned_model/special_tokens_map.json',\n",
       " './fine_tuned_model/tokenizer.json')"
      ]
     },
     "execution_count": 19,
     "metadata": {},
     "output_type": "execute_result"
    }
   ],
   "execution_count": 19
  }
 ],
 "metadata": {
  "colab": {
   "provenance": []
  },
  "kernelspec": {
   "display_name": "base",
   "language": "python",
   "name": "python3"
  },
  "language_info": {
   "codemirror_mode": {
    "name": "ipython",
    "version": 3
   },
   "file_extension": ".py",
   "mimetype": "text/x-python",
   "name": "python",
   "nbconvert_exporter": "python",
   "pygments_lexer": "ipython3",
   "version": "3.9.13"
  }
 },
 "nbformat": 4,
 "nbformat_minor": 0
}
