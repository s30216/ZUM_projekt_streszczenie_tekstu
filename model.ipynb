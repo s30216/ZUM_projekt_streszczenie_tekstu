{
 "cells": [
  {
   "cell_type": "markdown",
   "metadata": {
    "id": "8PCjke0vS7Nx"
   },
   "source": [
    "# Projekt ZUM - Streszczenie tekstu"
   ]
  },
  {
   "cell_type": "markdown",
   "metadata": {},
   "source": [
    "## Wstępna analiza"
   ]
  },
  {
   "cell_type": "code",
   "metadata": {
    "colab": {
     "base_uri": "https://localhost:8080/"
    },
    "id": "ZDp5cu7ZiZ2k",
    "outputId": "fe7acd8d-743d-4681-f399-0b008394ab29",
    "ExecuteTime": {
     "end_time": "2025-01-26T02:03:49.412266Z",
     "start_time": "2025-01-26T02:03:48.574642Z"
    }
   },
   "source": "! pip install datasets transformers torch accelerate dash plotly jupyter-dash rouge-score evaluate",
   "outputs": [
    {
     "name": "stderr",
     "output_type": "stream",
     "text": [
      "huggingface/tokenizers: The current process just got forked, after parallelism has already been used. Disabling parallelism to avoid deadlocks...\n",
      "To disable this warning, you can either:\n",
      "\t- Avoid using `tokenizers` before the fork if possible\n",
      "\t- Explicitly set the environment variable TOKENIZERS_PARALLELISM=(true | false)\n"
     ]
    },
    {
     "name": "stdout",
     "output_type": "stream",
     "text": [
      "Requirement already satisfied: datasets in /opt/homebrew/Caskroom/miniconda/base/envs/ml/lib/python3.12/site-packages (3.2.0)\r\n",
      "Requirement already satisfied: transformers in /opt/homebrew/Caskroom/miniconda/base/envs/ml/lib/python3.12/site-packages (4.48.0)\r\n",
      "Requirement already satisfied: torch in /opt/homebrew/Caskroom/miniconda/base/envs/ml/lib/python3.12/site-packages (2.5.1)\r\n",
      "Requirement already satisfied: accelerate in /opt/homebrew/Caskroom/miniconda/base/envs/ml/lib/python3.12/site-packages (1.2.1)\r\n",
      "Requirement already satisfied: dash in /opt/homebrew/Caskroom/miniconda/base/envs/ml/lib/python3.12/site-packages (2.18.2)\r\n",
      "Requirement already satisfied: plotly in /opt/homebrew/Caskroom/miniconda/base/envs/ml/lib/python3.12/site-packages (5.24.1)\r\n",
      "Requirement already satisfied: jupyter-dash in /opt/homebrew/Caskroom/miniconda/base/envs/ml/lib/python3.12/site-packages (0.4.2)\r\n",
      "Requirement already satisfied: rouge-score in /opt/homebrew/Caskroom/miniconda/base/envs/ml/lib/python3.12/site-packages (0.1.2)\r\n",
      "Requirement already satisfied: evaluate in /opt/homebrew/Caskroom/miniconda/base/envs/ml/lib/python3.12/site-packages (0.4.3)\r\n",
      "Requirement already satisfied: filelock in /opt/homebrew/Caskroom/miniconda/base/envs/ml/lib/python3.12/site-packages (from datasets) (3.16.1)\r\n",
      "Requirement already satisfied: numpy>=1.17 in /opt/homebrew/Caskroom/miniconda/base/envs/ml/lib/python3.12/site-packages (from datasets) (2.2.1)\r\n",
      "Requirement already satisfied: pyarrow>=15.0.0 in /opt/homebrew/Caskroom/miniconda/base/envs/ml/lib/python3.12/site-packages (from datasets) (18.1.0)\r\n",
      "Requirement already satisfied: dill<0.3.9,>=0.3.0 in /opt/homebrew/Caskroom/miniconda/base/envs/ml/lib/python3.12/site-packages (from datasets) (0.3.8)\r\n",
      "Requirement already satisfied: pandas in /opt/homebrew/Caskroom/miniconda/base/envs/ml/lib/python3.12/site-packages (from datasets) (2.2.3)\r\n",
      "Requirement already satisfied: requests>=2.32.2 in /opt/homebrew/Caskroom/miniconda/base/envs/ml/lib/python3.12/site-packages (from datasets) (2.32.3)\r\n",
      "Requirement already satisfied: tqdm>=4.66.3 in /opt/homebrew/Caskroom/miniconda/base/envs/ml/lib/python3.12/site-packages (from datasets) (4.67.1)\r\n",
      "Requirement already satisfied: xxhash in /opt/homebrew/Caskroom/miniconda/base/envs/ml/lib/python3.12/site-packages (from datasets) (3.5.0)\r\n",
      "Requirement already satisfied: multiprocess<0.70.17 in /opt/homebrew/Caskroom/miniconda/base/envs/ml/lib/python3.12/site-packages (from datasets) (0.70.16)\r\n",
      "Requirement already satisfied: fsspec<=2024.9.0,>=2023.1.0 in /opt/homebrew/Caskroom/miniconda/base/envs/ml/lib/python3.12/site-packages (from fsspec[http]<=2024.9.0,>=2023.1.0->datasets) (2024.9.0)\r\n",
      "Requirement already satisfied: aiohttp in /opt/homebrew/Caskroom/miniconda/base/envs/ml/lib/python3.12/site-packages (from datasets) (3.11.11)\r\n",
      "Requirement already satisfied: huggingface-hub>=0.23.0 in /opt/homebrew/Caskroom/miniconda/base/envs/ml/lib/python3.12/site-packages (from datasets) (0.27.1)\r\n",
      "Requirement already satisfied: packaging in /opt/homebrew/Caskroom/miniconda/base/envs/ml/lib/python3.12/site-packages (from datasets) (24.2)\r\n",
      "Requirement already satisfied: pyyaml>=5.1 in /opt/homebrew/Caskroom/miniconda/base/envs/ml/lib/python3.12/site-packages (from datasets) (6.0.2)\r\n",
      "Requirement already satisfied: regex!=2019.12.17 in /opt/homebrew/Caskroom/miniconda/base/envs/ml/lib/python3.12/site-packages (from transformers) (2024.11.6)\r\n",
      "Requirement already satisfied: tokenizers<0.22,>=0.21 in /opt/homebrew/Caskroom/miniconda/base/envs/ml/lib/python3.12/site-packages (from transformers) (0.21.0)\r\n",
      "Requirement already satisfied: safetensors>=0.4.1 in /opt/homebrew/Caskroom/miniconda/base/envs/ml/lib/python3.12/site-packages (from transformers) (0.5.2)\r\n",
      "Requirement already satisfied: typing-extensions>=4.8.0 in /opt/homebrew/Caskroom/miniconda/base/envs/ml/lib/python3.12/site-packages (from torch) (4.12.2)\r\n",
      "Requirement already satisfied: networkx in /opt/homebrew/Caskroom/miniconda/base/envs/ml/lib/python3.12/site-packages (from torch) (3.4.2)\r\n",
      "Requirement already satisfied: jinja2 in /opt/homebrew/Caskroom/miniconda/base/envs/ml/lib/python3.12/site-packages (from torch) (3.1.4)\r\n",
      "Requirement already satisfied: setuptools in /opt/homebrew/Caskroom/miniconda/base/envs/ml/lib/python3.12/site-packages (from torch) (75.8.0)\r\n",
      "Requirement already satisfied: sympy==1.13.1 in /opt/homebrew/Caskroom/miniconda/base/envs/ml/lib/python3.12/site-packages (from torch) (1.13.1)\r\n",
      "Requirement already satisfied: mpmath<1.4,>=1.1.0 in /opt/homebrew/Caskroom/miniconda/base/envs/ml/lib/python3.12/site-packages (from sympy==1.13.1->torch) (1.3.0)\r\n",
      "Requirement already satisfied: psutil in /opt/homebrew/Caskroom/miniconda/base/envs/ml/lib/python3.12/site-packages (from accelerate) (5.9.0)\r\n",
      "Requirement already satisfied: Flask<3.1,>=1.0.4 in /opt/homebrew/Caskroom/miniconda/base/envs/ml/lib/python3.12/site-packages (from dash) (3.0.3)\r\n",
      "Requirement already satisfied: Werkzeug<3.1 in /opt/homebrew/Caskroom/miniconda/base/envs/ml/lib/python3.12/site-packages (from dash) (3.0.6)\r\n",
      "Requirement already satisfied: dash-html-components==2.0.0 in /opt/homebrew/Caskroom/miniconda/base/envs/ml/lib/python3.12/site-packages (from dash) (2.0.0)\r\n",
      "Requirement already satisfied: dash-core-components==2.0.0 in /opt/homebrew/Caskroom/miniconda/base/envs/ml/lib/python3.12/site-packages (from dash) (2.0.0)\r\n",
      "Requirement already satisfied: dash-table==5.0.0 in /opt/homebrew/Caskroom/miniconda/base/envs/ml/lib/python3.12/site-packages (from dash) (5.0.0)\r\n",
      "Requirement already satisfied: importlib-metadata in /opt/homebrew/Caskroom/miniconda/base/envs/ml/lib/python3.12/site-packages (from dash) (8.5.0)\r\n",
      "Requirement already satisfied: retrying in /opt/homebrew/Caskroom/miniconda/base/envs/ml/lib/python3.12/site-packages (from dash) (1.3.4)\r\n",
      "Requirement already satisfied: nest-asyncio in /opt/homebrew/Caskroom/miniconda/base/envs/ml/lib/python3.12/site-packages (from dash) (1.6.0)\r\n",
      "Requirement already satisfied: tenacity>=6.2.0 in /opt/homebrew/Caskroom/miniconda/base/envs/ml/lib/python3.12/site-packages (from plotly) (9.0.0)\r\n",
      "Requirement already satisfied: ipython in /opt/homebrew/Caskroom/miniconda/base/envs/ml/lib/python3.12/site-packages (from jupyter-dash) (8.30.0)\r\n",
      "Requirement already satisfied: ipykernel in /opt/homebrew/Caskroom/miniconda/base/envs/ml/lib/python3.12/site-packages (from jupyter-dash) (6.29.5)\r\n",
      "Requirement already satisfied: ansi2html in /opt/homebrew/Caskroom/miniconda/base/envs/ml/lib/python3.12/site-packages (from jupyter-dash) (1.9.2)\r\n",
      "Requirement already satisfied: absl-py in /opt/homebrew/Caskroom/miniconda/base/envs/ml/lib/python3.12/site-packages (from rouge-score) (2.1.0)\r\n",
      "Requirement already satisfied: nltk in /opt/homebrew/Caskroom/miniconda/base/envs/ml/lib/python3.12/site-packages (from rouge-score) (3.9.1)\r\n",
      "Requirement already satisfied: six>=1.14.0 in /opt/homebrew/Caskroom/miniconda/base/envs/ml/lib/python3.12/site-packages (from rouge-score) (1.16.0)\r\n",
      "Requirement already satisfied: itsdangerous>=2.1.2 in /opt/homebrew/Caskroom/miniconda/base/envs/ml/lib/python3.12/site-packages (from Flask<3.1,>=1.0.4->dash) (2.2.0)\r\n",
      "Requirement already satisfied: click>=8.1.3 in /opt/homebrew/Caskroom/miniconda/base/envs/ml/lib/python3.12/site-packages (from Flask<3.1,>=1.0.4->dash) (8.1.8)\r\n",
      "Requirement already satisfied: blinker>=1.6.2 in /opt/homebrew/Caskroom/miniconda/base/envs/ml/lib/python3.12/site-packages (from Flask<3.1,>=1.0.4->dash) (1.9.0)\r\n",
      "Requirement already satisfied: aiohappyeyeballs>=2.3.0 in /opt/homebrew/Caskroom/miniconda/base/envs/ml/lib/python3.12/site-packages (from aiohttp->datasets) (2.4.4)\r\n",
      "Requirement already satisfied: aiosignal>=1.1.2 in /opt/homebrew/Caskroom/miniconda/base/envs/ml/lib/python3.12/site-packages (from aiohttp->datasets) (1.3.2)\r\n",
      "Requirement already satisfied: attrs>=17.3.0 in /opt/homebrew/Caskroom/miniconda/base/envs/ml/lib/python3.12/site-packages (from aiohttp->datasets) (24.3.0)\r\n",
      "Requirement already satisfied: frozenlist>=1.1.1 in /opt/homebrew/Caskroom/miniconda/base/envs/ml/lib/python3.12/site-packages (from aiohttp->datasets) (1.5.0)\r\n",
      "Requirement already satisfied: multidict<7.0,>=4.5 in /opt/homebrew/Caskroom/miniconda/base/envs/ml/lib/python3.12/site-packages (from aiohttp->datasets) (6.1.0)\r\n",
      "Requirement already satisfied: propcache>=0.2.0 in /opt/homebrew/Caskroom/miniconda/base/envs/ml/lib/python3.12/site-packages (from aiohttp->datasets) (0.2.1)\r\n",
      "Requirement already satisfied: yarl<2.0,>=1.17.0 in /opt/homebrew/Caskroom/miniconda/base/envs/ml/lib/python3.12/site-packages (from aiohttp->datasets) (1.18.3)\r\n",
      "Requirement already satisfied: MarkupSafe>=2.0 in /opt/homebrew/Caskroom/miniconda/base/envs/ml/lib/python3.12/site-packages (from jinja2->torch) (2.1.3)\r\n",
      "Requirement already satisfied: charset-normalizer<4,>=2 in /opt/homebrew/Caskroom/miniconda/base/envs/ml/lib/python3.12/site-packages (from requests>=2.32.2->datasets) (3.3.2)\r\n",
      "Requirement already satisfied: idna<4,>=2.5 in /opt/homebrew/Caskroom/miniconda/base/envs/ml/lib/python3.12/site-packages (from requests>=2.32.2->datasets) (3.7)\r\n",
      "Requirement already satisfied: urllib3<3,>=1.21.1 in /opt/homebrew/Caskroom/miniconda/base/envs/ml/lib/python3.12/site-packages (from requests>=2.32.2->datasets) (2.2.3)\r\n",
      "Requirement already satisfied: certifi>=2017.4.17 in /opt/homebrew/Caskroom/miniconda/base/envs/ml/lib/python3.12/site-packages (from requests>=2.32.2->datasets) (2024.12.14)\r\n",
      "Requirement already satisfied: zipp>=3.20 in /opt/homebrew/Caskroom/miniconda/base/envs/ml/lib/python3.12/site-packages (from importlib-metadata->dash) (3.21.0)\r\n",
      "Requirement already satisfied: appnope in /opt/homebrew/Caskroom/miniconda/base/envs/ml/lib/python3.12/site-packages (from ipykernel->jupyter-dash) (0.1.3)\r\n",
      "Requirement already satisfied: comm>=0.1.1 in /opt/homebrew/Caskroom/miniconda/base/envs/ml/lib/python3.12/site-packages (from ipykernel->jupyter-dash) (0.2.1)\r\n",
      "Requirement already satisfied: debugpy>=1.6.5 in /opt/homebrew/Caskroom/miniconda/base/envs/ml/lib/python3.12/site-packages (from ipykernel->jupyter-dash) (1.6.7)\r\n",
      "Requirement already satisfied: jupyter-client>=6.1.12 in /opt/homebrew/Caskroom/miniconda/base/envs/ml/lib/python3.12/site-packages (from ipykernel->jupyter-dash) (8.6.0)\r\n",
      "Requirement already satisfied: jupyter-core!=5.0.*,>=4.12 in /opt/homebrew/Caskroom/miniconda/base/envs/ml/lib/python3.12/site-packages (from ipykernel->jupyter-dash) (5.7.2)\r\n",
      "Requirement already satisfied: matplotlib-inline>=0.1 in /opt/homebrew/Caskroom/miniconda/base/envs/ml/lib/python3.12/site-packages (from ipykernel->jupyter-dash) (0.1.6)\r\n",
      "Requirement already satisfied: pyzmq>=24 in /opt/homebrew/Caskroom/miniconda/base/envs/ml/lib/python3.12/site-packages (from ipykernel->jupyter-dash) (26.2.0)\r\n",
      "Requirement already satisfied: tornado>=6.1 in /opt/homebrew/Caskroom/miniconda/base/envs/ml/lib/python3.12/site-packages (from ipykernel->jupyter-dash) (6.4.2)\r\n",
      "Requirement already satisfied: traitlets>=5.4.0 in /opt/homebrew/Caskroom/miniconda/base/envs/ml/lib/python3.12/site-packages (from ipykernel->jupyter-dash) (5.14.3)\r\n",
      "Requirement already satisfied: decorator in /opt/homebrew/Caskroom/miniconda/base/envs/ml/lib/python3.12/site-packages (from ipython->jupyter-dash) (5.1.1)\r\n",
      "Requirement already satisfied: jedi>=0.16 in /opt/homebrew/Caskroom/miniconda/base/envs/ml/lib/python3.12/site-packages (from ipython->jupyter-dash) (0.19.2)\r\n",
      "Requirement already satisfied: prompt-toolkit<3.1.0,>=3.0.41 in /opt/homebrew/Caskroom/miniconda/base/envs/ml/lib/python3.12/site-packages (from ipython->jupyter-dash) (3.0.43)\r\n",
      "Requirement already satisfied: pygments>=2.4.0 in /opt/homebrew/Caskroom/miniconda/base/envs/ml/lib/python3.12/site-packages (from ipython->jupyter-dash) (2.15.1)\r\n",
      "Requirement already satisfied: stack-data in /opt/homebrew/Caskroom/miniconda/base/envs/ml/lib/python3.12/site-packages (from ipython->jupyter-dash) (0.2.0)\r\n",
      "Requirement already satisfied: pexpect>4.3 in /opt/homebrew/Caskroom/miniconda/base/envs/ml/lib/python3.12/site-packages (from ipython->jupyter-dash) (4.8.0)\r\n",
      "Requirement already satisfied: joblib in /opt/homebrew/Caskroom/miniconda/base/envs/ml/lib/python3.12/site-packages (from nltk->rouge-score) (1.4.2)\r\n",
      "Requirement already satisfied: python-dateutil>=2.8.2 in /opt/homebrew/Caskroom/miniconda/base/envs/ml/lib/python3.12/site-packages (from pandas->datasets) (2.9.0.post0)\r\n",
      "Requirement already satisfied: pytz>=2020.1 in /opt/homebrew/Caskroom/miniconda/base/envs/ml/lib/python3.12/site-packages (from pandas->datasets) (2024.1)\r\n",
      "Requirement already satisfied: tzdata>=2022.7 in /opt/homebrew/Caskroom/miniconda/base/envs/ml/lib/python3.12/site-packages (from pandas->datasets) (2024.2)\r\n",
      "Requirement already satisfied: parso<0.9.0,>=0.8.4 in /opt/homebrew/Caskroom/miniconda/base/envs/ml/lib/python3.12/site-packages (from jedi>=0.16->ipython->jupyter-dash) (0.8.4)\r\n",
      "Requirement already satisfied: platformdirs>=2.5 in /opt/homebrew/Caskroom/miniconda/base/envs/ml/lib/python3.12/site-packages (from jupyter-core!=5.0.*,>=4.12->ipykernel->jupyter-dash) (3.10.0)\r\n",
      "Requirement already satisfied: ptyprocess>=0.5 in /opt/homebrew/Caskroom/miniconda/base/envs/ml/lib/python3.12/site-packages (from pexpect>4.3->ipython->jupyter-dash) (0.7.0)\r\n",
      "Requirement already satisfied: wcwidth in /opt/homebrew/Caskroom/miniconda/base/envs/ml/lib/python3.12/site-packages (from prompt-toolkit<3.1.0,>=3.0.41->ipython->jupyter-dash) (0.2.5)\r\n",
      "Requirement already satisfied: executing in /opt/homebrew/Caskroom/miniconda/base/envs/ml/lib/python3.12/site-packages (from stack-data->ipython->jupyter-dash) (0.8.3)\r\n",
      "Requirement already satisfied: asttokens in /opt/homebrew/Caskroom/miniconda/base/envs/ml/lib/python3.12/site-packages (from stack-data->ipython->jupyter-dash) (2.0.5)\r\n",
      "Requirement already satisfied: pure-eval in /opt/homebrew/Caskroom/miniconda/base/envs/ml/lib/python3.12/site-packages (from stack-data->ipython->jupyter-dash) (0.2.2)\r\n"
     ]
    }
   ],
   "execution_count": 81
  },
  {
   "cell_type": "code",
   "metadata": {
    "colab": {
     "base_uri": "https://localhost:8080/"
    },
    "id": "aIUh2ND8iocS",
    "outputId": "70848d85-24d8-40dd-a639-7b21f9a9245a",
    "ExecuteTime": {
     "end_time": "2025-01-26T02:03:53.044354Z",
     "start_time": "2025-01-26T02:03:49.416984Z"
    }
   },
   "source": [
    "from datasets import load_dataset\n",
    "\n",
    "ds = load_dataset(\"abisee/cnn_dailymail\", \"3.0.0\")\n",
    "cap = 700\n",
    "df_train = ds['train'].to_pandas()\n",
    "df_train = df_train[df_train['article'].str.len() < cap]\n",
    "\n",
    "df_val = ds['validation'].to_pandas()\n",
    "df_val = df_val[df_val['article'].str.len() < cap]\n",
    "\n",
    "df_test = ds['test'].to_pandas()\n",
    "df_test = df_test[df_test['article'].str.len() < cap]"
   ],
   "outputs": [],
   "execution_count": 82
  },
  {
   "cell_type": "code",
   "metadata": {
    "ExecuteTime": {
     "end_time": "2025-01-26T02:03:53.171769Z",
     "start_time": "2025-01-26T02:03:53.168547Z"
    }
   },
   "source": [
    "ds"
   ],
   "outputs": [
    {
     "data": {
      "text/plain": [
       "DatasetDict({\n",
       "    train: Dataset({\n",
       "        features: ['article', 'highlights', 'id'],\n",
       "        num_rows: 287113\n",
       "    })\n",
       "    validation: Dataset({\n",
       "        features: ['article', 'highlights', 'id'],\n",
       "        num_rows: 13368\n",
       "    })\n",
       "    test: Dataset({\n",
       "        features: ['article', 'highlights', 'id'],\n",
       "        num_rows: 11490\n",
       "    })\n",
       "})"
      ]
     },
     "execution_count": 83,
     "metadata": {},
     "output_type": "execute_result"
    }
   ],
   "execution_count": 83
  },
  {
   "cell_type": "code",
   "metadata": {
    "ExecuteTime": {
     "end_time": "2025-01-26T02:03:53.197128Z",
     "start_time": "2025-01-26T02:03:53.192031Z"
    }
   },
   "source": [
    "import pandas as pd\n",
    "\n",
    "pd.set_option('display.max_colwidth', 500)\n",
    "\n",
    "df_train"
   ],
   "outputs": [
    {
     "data": {
      "text/plain": [
       "                                                                                                                                                                                                                                                                                                                                                                                                                                                                                                                    article  \\\n",
       "293                                                                                                                                                                                                                                                      • The twins get a check-up (2/26/08) • VIDEO: Nancy Grace introduces on set 2-14-08  • The twins go out for a stroll (2/11/08) • The twins at 3 months (2/4/08) • The twins in January (1/21/08) • VIDEO: First video of Nancy Grace's twins  E-mail to a friend .   \n",
       "1307    David C. Novak became chairman of the board at Yum! Brands on January 1, 2001, and chief executive officer on January 1, 2000. Yum! Brands's CEO, David Novak talks to CNN's Maggie Lake in The Boardroom. He also serves as president of Yum, a position he has held since October 21, 1997. Mr. Novak previously served as Group President and Chief Executive Officer, KFC and Pizza Hut from August 1996 to July 1997, at which time he became acting Vice Chairman of Yum. He is a director of J.P. Morgan ...   \n",
       "1347    (CNN) -- The daughter of Sen. Dick Durbin died Saturday from a congenital heart condition, the Illinois Democrat's office said. \"Chris Durbin, 40, fought a heroic lifelong battle with heart disease and our thoughts and prayers are with the entire Durbin family,\" said Durbin's spokesman, Joe Shoemaker. Chris Durbin worked for 16 years for the U.S. Department of Agriculture in Washington. Survivors include her husband, Marty Johnson, and son, Alex. Her death comes as Dick Durbin, the second-ra...   \n",
       "1511                                                                                                                                                                                                                                                                                          (CNN) -- The U.S. Commission on International Religious Freedom cited several examples in a recent report of abuse toward Christians in Iraq. Iraqis rush to a car bomb explosion at a Christian church in Kirkuk in January.   \n",
       "1533    (CNN)  -- Game show host and comedian Howie Mandel's irregular heartbeat scare is over, his publicist said Tuesday. Howie Mandel had an irregular heartbeat, but he did not have a heart attack, his publicist said. \"Howie has been released from the hospital and will be back at work tomorrow,\" said Lewis Kay. \"He appreciates everyone's concern.\" Mandel, 53, checked into a Toronto hospital Monday so doctors could monitor his condition, Kay said. He was in Toronto, filming segments for a new show...   \n",
       "...                                                                                                                                                                                                                                                                                                                                                                                                                                                                                                                     ...   \n",
       "266255  Heather Watson is out of the Japan Women's Open after suffering a second round exit to Kazakhstan's Yulia Putintseva. The sixth seed was beaten 6-4 7-5 in what was the first meeting between the two. The British No 1 was looking to regain the title she won in 2012, but at the Utsubo Tennis Centre teenager Putintseva, ranked 122 in the World, proved too strong. Heather Watson was beaten 6-4 7-5 in the second round of the Japan Open by Yulia Putintseva . The 46th ranked Watson had lost in the f...   \n",
       "266597  Real Madrid are looking to extend their 21-game winning streak by defeating San Lorenzo to claim their first ever Club World Cup title. Cristiano Ronaldo and Co have been in scintillating form - winning the Champions League, Copa del Rey and European Super Cup in 2014 - and reached the final in Marrakech with a 4-0 demolition of Mexican side Cruz Azul in the semi-finals. Copa Libertadores champions San Lorenzo, who are incidentally the team supported by Pope Francis, needed extra-time to def...   \n",
       "267759                                                                Bad spellers will rejoice at the autocorrect function on our smartphones. But without total concentration, it has a sneaky habit of twisting your words into something rather rude - even during the season of goodwill. From kissing under the camel toe, to threatening to take the kids to see Satan, damnyouautocorrect.com has put together a collection of text message showing some of the funniest autocorrects sent over the festive period.   \n",
       "285119  The search is on for a 12-year-old Bronx girl who disappeared after leaving her home on Friday, police said. Charleyne Delgado was reported missing Saturday after not returning to her home on University Avenue near W 165 Street in Highbridge. Missing: Charleyne Delgado was reported missing Saturday after not returning to her home in Highbridge, having last been seen on Friday . She was last seen on Friday around 2:30 p.m. wearing a black t-shirt and black jeans, the Daily News reports. Delga...   \n",
       "285950  Sportsmail columnist Martin Keown answered your questions on Thursday ahead of the weekend's Premier League action. Top of the agenda this week was Manchester United's defence. Keown believes that none of the current back four would make any of Sir Alex Ferguson's squads. Also discussed this week is the North London derby and the centre backs who could make a move to the top sides in the Premier League in January. Find out Keown's thoughts on all that, plus the other big clash of the weekend...   \n",
       "\n",
       "                                                                                                                                                                                                                                                                                                                                                                                                                                                                                                                 highlights  \\\n",
       "293                                                                                                                                                                                                                                                                                                                                                                   Pictures of Nancy Grace's twins .\\nJohn David and Lucy Elizabeth were born November 4, 2007 .\\nCome back to this site for regularly updated pictures!   \n",
       "1307                                                                                                                                                                                                                                                                                                                                David Novak was made CEO of Yum! Brands in January 2000 .\\nHe is a director of Global financial services firm J.P. Morgan Chase .\\nA keen golfer, Novak has teed off with Tiger Woods .   \n",
       "1347                                                                                                                                                                                                                                                                                                                                                                       Illinois Democratic Sen. Dick Durbin's daughter dies .\\nChris Durbin, 40, had a congenital heart condition .\\nFuneral arrangements are pending .   \n",
       "1511                                                                                                                                                                                                                                                            U.S. panel reports examples of intimidation, violence against Christians in Iraq .\\nReport: Christians urged to convert to Islam, attacked if they don't obey Islamic laws .\\nChristian priests, missionaries have been kidnapped and killed, report says .   \n",
       "1533                                                                                                                                                                                                                                                                                                            NEW: Howie Mandel released from Toronto hospital .\\nHost of \"Deal or No Deal\" had been admitted with irregular heartbeat .\\nComedian was in Toronto, Canada, filming segments for a new show, \"Howie Do It\"   \n",
       "...                                                                                                                                                                                                                                                                                                                                                                                                                                                                                                                     ...   \n",
       "266255                                                                                                                                                                                                                                                                                                            Heather Watson beaten 6-4 7-5 by Yulia Putintseva in Japan Open .\\nBritish No 1 ranked 46th and 76 places above Kazakhstan star .\\nWatson hoped to regain title she won in 2012 at Utsubo Tennis Centre .   \n",
       "266597  Real Madrid beat San Lorenzo in Club World Cup final .\\nSergio Ramos opened scoring with a header in the first half .\\nGareth Bale puts them 2-0 up early on after half time .\\nReal Madrid XI: Casillas, Carvajal, Pepe, Ramos, Marcelo, Kroos, Isco, Rodriguez, Bale, Ronaldo, Benzema .\\nSan Lorenzo XI: Torrico, Yepes, Mercier, Buffarini, Kalinski, Cauteruccio, Barrientos, Kannemann, Ortigoza, Mas, Veron .\\nCarlo Ancelotti's side have won 21 consecutive games this season .\\nLos Blancos have won t...   \n",
       "267759                                                                                                                                                                                                                                                                 Autocorrect can leave the best of spellers red-faced, even at Christmas .\\nOne hilarious message threatened to take the children to see Satan - instead of Santa .\\nAnother suggests grabbing their mother a 'Horny Man' - rather than an ornament .   \n",
       "285119                                                                                                                                                                                                                                                                                                                                           Charleyne Delgado disappeared from her home on University Avenue in Highbridge .\\nShe was last seen at her home Friday afternoon, and parents filed a report on Saturday .   \n",
       "285950                                                                                                                                                                                                                                                                  Manchester United's current defence would not have made any of their teams in the last 20 years .\\nMario Balotelli has not yet managed to reach the highs of Euro 2012 .\\nRon Vlaar is not mobile enough to play for either Man United or Arsenal .   \n",
       "\n",
       "                                              id  \n",
       "293     9cce7373a54faccf5b5d1232c82afab9b29ab6b9  \n",
       "1307    64c3f4b04f8ba41618bde6de0226b7f202396024  \n",
       "1347    a3f792d7c9889b5a4191a12e9346a28b5abb90a4  \n",
       "1511    578d4784656d2b462895cfc89b3481a231ebfb51  \n",
       "1533    e1aa3cc0557bc36c8bdb78a78bc24e1770db05cc  \n",
       "...                                          ...  \n",
       "266255  bc03a4edb3fdd5e70387f6932d52f2d0d0860aec  \n",
       "266597  2135198481b574fecaa6d1dba043002eff05fde6  \n",
       "267759  c64e7bcfa684ab0212322cdcf8bb0de5629cb956  \n",
       "285119  25ce8a42402083f3aa730cbd209255946cac58c5  \n",
       "285950  b7d4d21c1eef182d1363065016e79941e3780b0c  \n",
       "\n",
       "[762 rows x 3 columns]"
      ],
      "text/html": [
       "<div>\n",
       "<style scoped>\n",
       "    .dataframe tbody tr th:only-of-type {\n",
       "        vertical-align: middle;\n",
       "    }\n",
       "\n",
       "    .dataframe tbody tr th {\n",
       "        vertical-align: top;\n",
       "    }\n",
       "\n",
       "    .dataframe thead th {\n",
       "        text-align: right;\n",
       "    }\n",
       "</style>\n",
       "<table border=\"1\" class=\"dataframe\">\n",
       "  <thead>\n",
       "    <tr style=\"text-align: right;\">\n",
       "      <th></th>\n",
       "      <th>article</th>\n",
       "      <th>highlights</th>\n",
       "      <th>id</th>\n",
       "    </tr>\n",
       "  </thead>\n",
       "  <tbody>\n",
       "    <tr>\n",
       "      <th>293</th>\n",
       "      <td>• The twins get a check-up (2/26/08) • VIDEO: Nancy Grace introduces on set 2-14-08  • The twins go out for a stroll (2/11/08) • The twins at 3 months (2/4/08) • The twins in January (1/21/08) • VIDEO: First video of Nancy Grace's twins  E-mail to a friend .</td>\n",
       "      <td>Pictures of Nancy Grace's twins .\\nJohn David and Lucy Elizabeth were born November 4, 2007 .\\nCome back to this site for regularly updated pictures!</td>\n",
       "      <td>9cce7373a54faccf5b5d1232c82afab9b29ab6b9</td>\n",
       "    </tr>\n",
       "    <tr>\n",
       "      <th>1307</th>\n",
       "      <td>David C. Novak became chairman of the board at Yum! Brands on January 1, 2001, and chief executive officer on January 1, 2000. Yum! Brands's CEO, David Novak talks to CNN's Maggie Lake in The Boardroom. He also serves as president of Yum, a position he has held since October 21, 1997. Mr. Novak previously served as Group President and Chief Executive Officer, KFC and Pizza Hut from August 1996 to July 1997, at which time he became acting Vice Chairman of Yum. He is a director of J.P. Morgan ...</td>\n",
       "      <td>David Novak was made CEO of Yum! Brands in January 2000 .\\nHe is a director of Global financial services firm J.P. Morgan Chase .\\nA keen golfer, Novak has teed off with Tiger Woods .</td>\n",
       "      <td>64c3f4b04f8ba41618bde6de0226b7f202396024</td>\n",
       "    </tr>\n",
       "    <tr>\n",
       "      <th>1347</th>\n",
       "      <td>(CNN) -- The daughter of Sen. Dick Durbin died Saturday from a congenital heart condition, the Illinois Democrat's office said. \"Chris Durbin, 40, fought a heroic lifelong battle with heart disease and our thoughts and prayers are with the entire Durbin family,\" said Durbin's spokesman, Joe Shoemaker. Chris Durbin worked for 16 years for the U.S. Department of Agriculture in Washington. Survivors include her husband, Marty Johnson, and son, Alex. Her death comes as Dick Durbin, the second-ra...</td>\n",
       "      <td>Illinois Democratic Sen. Dick Durbin's daughter dies .\\nChris Durbin, 40, had a congenital heart condition .\\nFuneral arrangements are pending .</td>\n",
       "      <td>a3f792d7c9889b5a4191a12e9346a28b5abb90a4</td>\n",
       "    </tr>\n",
       "    <tr>\n",
       "      <th>1511</th>\n",
       "      <td>(CNN) -- The U.S. Commission on International Religious Freedom cited several examples in a recent report of abuse toward Christians in Iraq. Iraqis rush to a car bomb explosion at a Christian church in Kirkuk in January.</td>\n",
       "      <td>U.S. panel reports examples of intimidation, violence against Christians in Iraq .\\nReport: Christians urged to convert to Islam, attacked if they don't obey Islamic laws .\\nChristian priests, missionaries have been kidnapped and killed, report says .</td>\n",
       "      <td>578d4784656d2b462895cfc89b3481a231ebfb51</td>\n",
       "    </tr>\n",
       "    <tr>\n",
       "      <th>1533</th>\n",
       "      <td>(CNN)  -- Game show host and comedian Howie Mandel's irregular heartbeat scare is over, his publicist said Tuesday. Howie Mandel had an irregular heartbeat, but he did not have a heart attack, his publicist said. \"Howie has been released from the hospital and will be back at work tomorrow,\" said Lewis Kay. \"He appreciates everyone's concern.\" Mandel, 53, checked into a Toronto hospital Monday so doctors could monitor his condition, Kay said. He was in Toronto, filming segments for a new show...</td>\n",
       "      <td>NEW: Howie Mandel released from Toronto hospital .\\nHost of \"Deal or No Deal\" had been admitted with irregular heartbeat .\\nComedian was in Toronto, Canada, filming segments for a new show, \"Howie Do It\"</td>\n",
       "      <td>e1aa3cc0557bc36c8bdb78a78bc24e1770db05cc</td>\n",
       "    </tr>\n",
       "    <tr>\n",
       "      <th>...</th>\n",
       "      <td>...</td>\n",
       "      <td>...</td>\n",
       "      <td>...</td>\n",
       "    </tr>\n",
       "    <tr>\n",
       "      <th>266255</th>\n",
       "      <td>Heather Watson is out of the Japan Women's Open after suffering a second round exit to Kazakhstan's Yulia Putintseva. The sixth seed was beaten 6-4 7-5 in what was the first meeting between the two. The British No 1 was looking to regain the title she won in 2012, but at the Utsubo Tennis Centre teenager Putintseva, ranked 122 in the World, proved too strong. Heather Watson was beaten 6-4 7-5 in the second round of the Japan Open by Yulia Putintseva . The 46th ranked Watson had lost in the f...</td>\n",
       "      <td>Heather Watson beaten 6-4 7-5 by Yulia Putintseva in Japan Open .\\nBritish No 1 ranked 46th and 76 places above Kazakhstan star .\\nWatson hoped to regain title she won in 2012 at Utsubo Tennis Centre .</td>\n",
       "      <td>bc03a4edb3fdd5e70387f6932d52f2d0d0860aec</td>\n",
       "    </tr>\n",
       "    <tr>\n",
       "      <th>266597</th>\n",
       "      <td>Real Madrid are looking to extend their 21-game winning streak by defeating San Lorenzo to claim their first ever Club World Cup title. Cristiano Ronaldo and Co have been in scintillating form - winning the Champions League, Copa del Rey and European Super Cup in 2014 - and reached the final in Marrakech with a 4-0 demolition of Mexican side Cruz Azul in the semi-finals. Copa Libertadores champions San Lorenzo, who are incidentally the team supported by Pope Francis, needed extra-time to def...</td>\n",
       "      <td>Real Madrid beat San Lorenzo in Club World Cup final .\\nSergio Ramos opened scoring with a header in the first half .\\nGareth Bale puts them 2-0 up early on after half time .\\nReal Madrid XI: Casillas, Carvajal, Pepe, Ramos, Marcelo, Kroos, Isco, Rodriguez, Bale, Ronaldo, Benzema .\\nSan Lorenzo XI: Torrico, Yepes, Mercier, Buffarini, Kalinski, Cauteruccio, Barrientos, Kannemann, Ortigoza, Mas, Veron .\\nCarlo Ancelotti's side have won 21 consecutive games this season .\\nLos Blancos have won t...</td>\n",
       "      <td>2135198481b574fecaa6d1dba043002eff05fde6</td>\n",
       "    </tr>\n",
       "    <tr>\n",
       "      <th>267759</th>\n",
       "      <td>Bad spellers will rejoice at the autocorrect function on our smartphones. But without total concentration, it has a sneaky habit of twisting your words into something rather rude - even during the season of goodwill. From kissing under the camel toe, to threatening to take the kids to see Satan, damnyouautocorrect.com has put together a collection of text message showing some of the funniest autocorrects sent over the festive period.</td>\n",
       "      <td>Autocorrect can leave the best of spellers red-faced, even at Christmas .\\nOne hilarious message threatened to take the children to see Satan - instead of Santa .\\nAnother suggests grabbing their mother a 'Horny Man' - rather than an ornament .</td>\n",
       "      <td>c64e7bcfa684ab0212322cdcf8bb0de5629cb956</td>\n",
       "    </tr>\n",
       "    <tr>\n",
       "      <th>285119</th>\n",
       "      <td>The search is on for a 12-year-old Bronx girl who disappeared after leaving her home on Friday, police said. Charleyne Delgado was reported missing Saturday after not returning to her home on University Avenue near W 165 Street in Highbridge. Missing: Charleyne Delgado was reported missing Saturday after not returning to her home in Highbridge, having last been seen on Friday . She was last seen on Friday around 2:30 p.m. wearing a black t-shirt and black jeans, the Daily News reports. Delga...</td>\n",
       "      <td>Charleyne Delgado disappeared from her home on University Avenue in Highbridge .\\nShe was last seen at her home Friday afternoon, and parents filed a report on Saturday .</td>\n",
       "      <td>25ce8a42402083f3aa730cbd209255946cac58c5</td>\n",
       "    </tr>\n",
       "    <tr>\n",
       "      <th>285950</th>\n",
       "      <td>Sportsmail columnist Martin Keown answered your questions on Thursday ahead of the weekend's Premier League action. Top of the agenda this week was Manchester United's defence. Keown believes that none of the current back four would make any of Sir Alex Ferguson's squads. Also discussed this week is the North London derby and the centre backs who could make a move to the top sides in the Premier League in January. Find out Keown's thoughts on all that, plus the other big clash of the weekend...</td>\n",
       "      <td>Manchester United's current defence would not have made any of their teams in the last 20 years .\\nMario Balotelli has not yet managed to reach the highs of Euro 2012 .\\nRon Vlaar is not mobile enough to play for either Man United or Arsenal .</td>\n",
       "      <td>b7d4d21c1eef182d1363065016e79941e3780b0c</td>\n",
       "    </tr>\n",
       "  </tbody>\n",
       "</table>\n",
       "<p>762 rows × 3 columns</p>\n",
       "</div>"
      ]
     },
     "execution_count": 84,
     "metadata": {},
     "output_type": "execute_result"
    }
   ],
   "execution_count": 84
  },
  {
   "cell_type": "code",
   "metadata": {
    "colab": {
     "base_uri": "https://localhost:8080/"
    },
    "id": "zBeU4bnjiezq",
    "outputId": "a3a122bf-53e3-407a-b51c-769456530bde",
    "ExecuteTime": {
     "end_time": "2025-01-26T02:03:53.236813Z",
     "start_time": "2025-01-26T02:03:53.231618Z"
    }
   },
   "source": [
    "# wyświetlanie przykładowej pary tekst - streszczenie\n",
    "df_train.head(1)[[\"article\", \"highlights\"]]"
   ],
   "outputs": [
    {
     "data": {
      "text/plain": [
       "                                                                                                                                                                                                                                                                article  \\\n",
       "293  • The twins get a check-up (2/26/08) • VIDEO: Nancy Grace introduces on set 2-14-08  • The twins go out for a stroll (2/11/08) • The twins at 3 months (2/4/08) • The twins in January (1/21/08) • VIDEO: First video of Nancy Grace's twins  E-mail to a friend .   \n",
       "\n",
       "                                                                                                                                                highlights  \n",
       "293  Pictures of Nancy Grace's twins .\\nJohn David and Lucy Elizabeth were born November 4, 2007 .\\nCome back to this site for regularly updated pictures!  "
      ],
      "text/html": [
       "<div>\n",
       "<style scoped>\n",
       "    .dataframe tbody tr th:only-of-type {\n",
       "        vertical-align: middle;\n",
       "    }\n",
       "\n",
       "    .dataframe tbody tr th {\n",
       "        vertical-align: top;\n",
       "    }\n",
       "\n",
       "    .dataframe thead th {\n",
       "        text-align: right;\n",
       "    }\n",
       "</style>\n",
       "<table border=\"1\" class=\"dataframe\">\n",
       "  <thead>\n",
       "    <tr style=\"text-align: right;\">\n",
       "      <th></th>\n",
       "      <th>article</th>\n",
       "      <th>highlights</th>\n",
       "    </tr>\n",
       "  </thead>\n",
       "  <tbody>\n",
       "    <tr>\n",
       "      <th>293</th>\n",
       "      <td>• The twins get a check-up (2/26/08) • VIDEO: Nancy Grace introduces on set 2-14-08  • The twins go out for a stroll (2/11/08) • The twins at 3 months (2/4/08) • The twins in January (1/21/08) • VIDEO: First video of Nancy Grace's twins  E-mail to a friend .</td>\n",
       "      <td>Pictures of Nancy Grace's twins .\\nJohn David and Lucy Elizabeth were born November 4, 2007 .\\nCome back to this site for regularly updated pictures!</td>\n",
       "    </tr>\n",
       "  </tbody>\n",
       "</table>\n",
       "</div>"
      ]
     },
     "execution_count": 85,
     "metadata": {},
     "output_type": "execute_result"
    }
   ],
   "execution_count": 85
  },
  {
   "cell_type": "code",
   "metadata": {
    "colab": {
     "base_uri": "https://localhost:8080/"
    },
    "id": "8METFZfyjAfa",
    "outputId": "43c12da3-334a-4bb1-a7f0-f70346996ba9",
    "ExecuteTime": {
     "end_time": "2025-01-26T02:03:53.282174Z",
     "start_time": "2025-01-26T02:03:53.275489Z"
    }
   },
   "source": [
    "# średnia długość tekstu i średnia długość streszczeń\n",
    "import numpy as np\n",
    "\n",
    "def words_count(text):\n",
    "    return len(text.split())\n",
    "\n",
    "text_len = [words_count(x) for x in df_train[\"article\"]]\n",
    "summary_len = [words_count(x) for x in df_train[\"highlights\"]]\n",
    "\n",
    "print(f\"średnia długość tekstu (wyrazy): {np.mean(text_len)}\")\n",
    "print(f\"średnia długość streszczeń (wyrazy): {np.mean(summary_len)}\")"
   ],
   "outputs": [
    {
     "name": "stdout",
     "output_type": "stream",
     "text": [
      "średnia długość tekstu (wyrazy): 90.6233595800525\n",
      "średnia długość streszczeń (wyrazy): 35.297900262467195\n"
     ]
    }
   ],
   "execution_count": 86
  },
  {
   "cell_type": "code",
   "metadata": {
    "colab": {
     "base_uri": "https://localhost:8080/"
    },
    "id": "g8d62PIrV_4r",
    "outputId": "852c4579-3e0f-4ab5-9e74-c9dfad6565d0",
    "ExecuteTime": {
     "end_time": "2025-01-26T02:03:53.334604Z",
     "start_time": "2025-01-26T02:03:53.332188Z"
    }
   },
   "source": [
    "ratios = [s_len / t_len for s_len, t_len in zip(summary_len, text_len)]\n",
    "print(f\"Średnia proporcja długości streszczeń do tekstów: {np.mean(ratios):.2f}\")\n"
   ],
   "outputs": [
    {
     "name": "stdout",
     "output_type": "stream",
     "text": [
      "Średnia proporcja długości streszczeń do tekstów: 0.46\n"
     ]
    }
   ],
   "execution_count": 87
  },
  {
   "cell_type": "code",
   "metadata": {
    "colab": {
     "base_uri": "https://localhost:8080/",
     "height": 565
    },
    "id": "1oUj3H26UvJ5",
    "outputId": "364e8669-c457-4375-aadf-ec10d6de6459",
    "ExecuteTime": {
     "end_time": "2025-01-26T02:03:53.539126Z",
     "start_time": "2025-01-26T02:03:53.370315Z"
    }
   },
   "source": [
    "import matplotlib.pyplot as plt\n",
    "\n",
    "# Histogramy\n",
    "plt.figure(figsize=(12, 6))\n",
    "plt.hist(text_len, bins=50, alpha=0.7, label=\"Długości tekstów\")\n",
    "plt.hist(summary_len, bins=50, alpha=0.7, label=\"Długości streszczeń\")\n",
    "plt.legend()\n",
    "plt.title(\"Histogram długości tekstów i streszczeń\")\n",
    "plt.xlabel(\"Długość\")\n",
    "plt.ylabel(\"Liczba przykładów\")\n",
    "plt.show()\n"
   ],
   "outputs": [
    {
     "data": {
      "text/plain": [
       "<Figure size 1200x600 with 1 Axes>"
      ],
      "image/png": "[encoded data removed]"
     },
     "metadata": {},
     "output_type": "display_data"
    }
   ],
   "execution_count": 88
  },
  {
   "cell_type": "code",
   "metadata": {
    "colab": {
     "base_uri": "https://localhost:8080/"
    },
    "id": "T3u-q7GXVklR",
    "outputId": "4658c254-7b02-4851-ce00-8954f6199eee",
    "ExecuteTime": {
     "end_time": "2025-01-26T02:03:53.606807Z",
     "start_time": "2025-01-26T02:03:53.586652Z"
    }
   },
   "source": [
    "# Najdłuższy i najkrótszy artykuł\n",
    "longest_article = max(df_train[\"article\"], key=lambda x: words_count(x))\n",
    "shortest_article = min(df_train[\"article\"], key=lambda x: words_count(x))\n",
    "\n",
    "print(f\"Najdłuższy artykuł (liczba słów: {words_count(longest_article)}):\\n{longest_article[:500]}...\\n\")\n",
    "print(f\"Najkrótszy artykuł (liczba słów: {words_count(shortest_article)}):\\n{shortest_article[:500]}\\n\")\n",
    "\n",
    "# Najdłuższe i najkrótsze streszczenie\n",
    "longest_summary = max(df_train[\"highlights\"], key=lambda x: words_count(x))\n",
    "shortest_summary = min(df_train[\"highlights\"], key=lambda x: words_count(x))\n",
    "\n",
    "print(f\"Najdłuższe streszczenie (liczba słów: {words_count(longest_summary)}):\\n{longest_summary[:500]}...\\n\")\n",
    "print(f\"Najkrótsze streszczenie (liczba słów: {words_count(shortest_summary)}):\\n{shortest_summary[:500]}\\n\")"
   ],
   "outputs": [
    {
     "name": "stdout",
     "output_type": "stream",
     "text": [
      "Najdłuższy artykuł (liczba słów: 138):\n",
      "By . Daily Mail Reporter . PUBLISHED: . 19:58 EST, 14 October 2013 . | . UPDATED: . 22:35 EST, 14 October 2013 . A very coordinated black bear at the Animal Ark Wildlife Sanctuary in Reno, Nevada, is a tetherball champ! The bear is seen swinging the ball around the pole for up to three minutes at a time. And, it obviously loves every moment. Scroll down for video... A big bear swipe: The black bear hits the ball . Watching it as it flies up and up and around . Woah, here it comes! Duck! The ball...\n",
      "\n",
      "Najkrótszy artykuł (liczba słów: 8):\n",
      "Downton Abbey's famously grim butler, Mr Bates .\n",
      "\n",
      "Najdłuższe streszczenie (liczba słów: 662):\n",
      "The Passat has been around for 42 years, the first model came out in 1973 .\n",
      "The estate car is the fourth biggest-selling VW in the UK .\n",
      "The new model has everything from keyless entry to heated seats .\n",
      "Only diesel models will be on sale initially and there will be a beefed-up 4x4 version hitting the road in July .\n",
      "It's hard to believe, but the Passat has been around for 42 years. More than 22 million have been made since 1973. So this is the eighth generation. It's a proven and indefatigable wor...\n",
      "\n",
      "Najkrótsze streszczenie (liczba słów: 13):\n",
      "The vessel was registered in Vietnam .\n",
      "Strong gales caused the capsizing .\n",
      "\n"
     ]
    }
   ],
   "execution_count": 89
  },
  {
   "cell_type": "code",
   "metadata": {
    "ExecuteTime": {
     "end_time": "2025-01-26T02:03:53.672816Z",
     "start_time": "2025-01-26T02:03:53.652078Z"
    }
   },
   "source": [
    "from collections import Counter\n",
    "\n",
    "# Tokenizacja i liczenie słów\n",
    "df_train['article_word_count'] = df_train['article'].apply(lambda x: words_count(x))\n",
    "df_train['summary_word_count'] = df_train['highlights'].apply(lambda x: words_count(x))\n",
    "\n",
    "# Najczęściej występujące słowa w streszczeniach\n",
    "all_summaries = \" \".join(df_train['highlights'])\n",
    "word_counts = Counter(all_summaries.split())\n",
    "print(word_counts.most_common(10))\n"
   ],
   "outputs": [
    {
     "name": "stdout",
     "output_type": "stream",
     "text": [
      "[('.', 2095), ('the', 857), ('to', 627), ('of', 583), ('in', 550), ('a', 501), ('The', 421), ('and', 408), ('on', 359), ('is', 351)]\n"
     ]
    }
   ],
   "execution_count": 90
  },
  {
   "cell_type": "markdown",
   "metadata": {},
   "source": [
    "## Inżynieria cech"
   ]
  },
  {
   "cell_type": "code",
   "metadata": {
    "ExecuteTime": {
     "end_time": "2025-01-26T02:03:54.728839Z",
     "start_time": "2025-01-26T02:03:53.700857Z"
    }
   },
   "source": [
    "import re\n",
    "\n",
    "def clean_text(text):\n",
    "  text = re.sub(r'http[s]?://\\S+', '', text)\n",
    "  text = text.strip().replace('\\n', ' ').replace('\\r', ' ')\n",
    "  text = re.sub(r'\\s+', ' ', text)\n",
    "  return text\n",
    "\n",
    "train_data = ds['train'].filter(lambda row: len(row['article']) < cap)\n",
    "train_data = train_data_map = train_data.map(lambda x: {'article': clean_text(x['article']), 'highlights': clean_text(x['highlights'])})\n",
    "val_data = ds['validation'].filter(lambda row: len(row['article']) < cap).map(lambda x: {'article': clean_text(x['article']), 'highlights': clean_text(x['highlights'])})\n",
    "test_data = ds['test'].filter(lambda row: len(row['article']) < cap).map(lambda x: {'article': clean_text(x['article']), 'highlights': clean_text(x['highlights'])})\n",
    "\n",
    "train_data[:2], val_data[:2], test_data[:2]"
   ],
   "outputs": [
    {
     "name": "stderr",
     "output_type": "stream",
     "text": [
      "Filter: 100%|██████████| 287113/287113 [00:00<00:00, 322981.35 examples/s]\n",
      "Map: 100%|██████████| 762/762 [00:00<00:00, 18126.47 examples/s]\n",
      "Filter: 100%|██████████| 13368/13368 [00:00<00:00, 327198.89 examples/s]\n",
      "Map: 100%|██████████| 25/25 [00:00<00:00, 7012.95 examples/s]\n",
      "Filter: 100%|██████████| 11490/11490 [00:00<00:00, 324140.44 examples/s]\n",
      "Map: 100%|██████████| 29/29 [00:00<00:00, 7846.40 examples/s]\n"
     ]
    },
    {
     "data": {
      "text/plain": [
       "({'article': [\"• The twins get a check-up (2/26/08) • VIDEO: Nancy Grace introduces on set 2-14-08 • The twins go out for a stroll (2/11/08) • The twins at 3 months (2/4/08) • The twins in January (1/21/08) • VIDEO: First video of Nancy Grace's twins E-mail to a friend .\",\n",
       "   \"David C. Novak became chairman of the board at Yum! Brands on January 1, 2001, and chief executive officer on January 1, 2000. Yum! Brands's CEO, David Novak talks to CNN's Maggie Lake in The Boardroom. He also serves as president of Yum, a position he has held since October 21, 1997. Mr. Novak previously served as Group President and Chief Executive Officer, KFC and Pizza Hut from August 1996 to July 1997, at which time he became acting Vice Chairman of Yum. He is a director of J.P. Morgan Chase. Novak is a member of the Yum! Brands Executive committee. In his spare time Novak is a keen golfer and has even played a round with golf legend Tiger Woods. E-mail to a friend .\"],\n",
       "  'highlights': [\"Pictures of Nancy Grace's twins . John David and Lucy Elizabeth were born November 4, 2007 . Come back to this site for regularly updated pictures!\",\n",
       "   'David Novak was made CEO of Yum! Brands in January 2000 . He is a director of Global financial services firm J.P. Morgan Chase . A keen golfer, Novak has teed off with Tiger Woods .'],\n",
       "  'id': ['9cce7373a54faccf5b5d1232c82afab9b29ab6b9',\n",
       "   '64c3f4b04f8ba41618bde6de0226b7f202396024']},\n",
       " {'article': [\"(CNN)A suicide attacker detonated a car bomb near a police vehicle in the capital of southern Afghanistan's Helmand province on Tuesday, killing seven people and injuring 23 others, the province's deputy governor said. The attack happened at about 6 p.m. in the Bolan area of Lashkar Gah city, said Mohammad Jan Rasoolyar, deputy governor of Helmand. Several children were among the wounded, and the majority of casualties were civilians, Rasoolyar said. Details about the attacker's identity and motive weren't immediately available.\",\n",
       "   '(CNN)If you feel a ripple in the Force today, it may be the news that the official Star Wars universe is getting its first gay character. According to the sci-fi website Big Shiny Robot, the upcoming novel \"Lords of the Sith\" will feature a capable but flawed Imperial official named Moff Mors who \"also happens to be a lesbian.\" The character is the first gay figure in the official Star Wars universe -- the movies, television shows, comics and books approved by Star Wars franchise owner Disney -- according to Shelly Shapiro, editor of \"Star Wars\" books at Random House imprint Del Rey Books.'],\n",
       "  'highlights': ['Car bomb detonated near police vehicle in Lashkar Gah, deputy governor says .',\n",
       "   'Official \"Star Wars\" universe gets its first gay character, a lesbian governor . The character appears in the upcoming novel \"Lords of the Sith\" Characters in \"Star Wars\" movies have gradually become more diverse .'],\n",
       "  'id': ['64d7ee44a6d3c726d4f5d197c325fd728e02ec53',\n",
       "   'b2eeb57b43f802ec4f4af5c1cc82beba5f512adf']},\n",
       " {'article': ['(CNN)For the first time in eight years, a TV legend returned to doing what he does best. Contestants told to \"come on down!\" on the April 1 edition of \"The Price Is Right\" encountered not host Drew Carey but another familiar face in charge of the proceedings. Instead, there was Bob Barker, who hosted the TV game show for 35 years before stepping down in 2007. Looking spry at 91, Barker handled the first price-guessing game of the show, the classic \"Lucky Seven,\" before turning hosting duties over to Carey, who finished up. Despite being away from the show for most of the past eight years, Barker didn\\'t seem to miss a beat.',\n",
       "   \"London (CNN)A 19-year-old man was charged Wednesday with terror offenses after he was arrested as he returned to Britain from Turkey, London's Metropolitan Police said. Yahya Rashid, a UK national from northwest London, was detained at Luton airport on Tuesday after he arrived on a flight from Istanbul, police said. He's been charged with engaging in conduct in preparation of acts of terrorism, and with engaging in conduct with the intention of assisting others to commit acts of terrorism. Both charges relate to the period between November 1 and March 31. Rashid is due to appear in Westminster Magistrates' Court on Wednesday, police said. CNN's Lindsay Isaac contributed to this report.\"],\n",
       "  'highlights': ['Bob Barker returned to host \"The Price Is Right\" on Wednesday . Barker, 91, had retired as host in 2007 .',\n",
       "   \"London's Metropolitan Police say the man was arrested at Luton airport after landing on a flight from Istanbul . He's been charged with terror offenses allegedly committed since the start of November .\"],\n",
       "  'id': ['2bd8ada1de6a7b02f59430cc82045eb8d29cf033',\n",
       "   'ee17dfb574feca82ccac5689595e47483bd23f12']})"
      ]
     },
     "execution_count": 91,
     "metadata": {},
     "output_type": "execute_result"
    }
   ],
   "execution_count": 91
  },
  {
   "cell_type": "code",
   "metadata": {
    "ExecuteTime": {
     "end_time": "2025-01-26T02:03:55.150229Z",
     "start_time": "2025-01-26T02:03:54.742601Z"
    }
   },
   "source": [
    "from transformers import AutoTokenizer\n",
    "\n",
    "model_name = \"t5-small\"\n",
    "tokenizer = AutoTokenizer.from_pretrained(model_name)\n",
    "\n",
    "def tokenize_data(examples):\n",
    "    inputs = [f\"summarize: {article}\" for article in examples['article']]\n",
    "    targets = examples['highlights']\n",
    "\n",
    "    model_inputs = tokenizer(\n",
    "        inputs,\n",
    "        max_length=512,\n",
    "        truncation=True,\n",
    "        padding=\"max_length\",\n",
    "        return_tensors=\"pt\",\n",
    "    )\n",
    "\n",
    "    model_inputs['labels'] = tokenizer(\n",
    "        targets,\n",
    "        max_length=150,\n",
    "        truncation=True,\n",
    "        padding=\"max_length\",\n",
    "        return_tensors=\"pt\",\n",
    "    )['input_ids']\n",
    "\n",
    "    return model_inputs\n",
    "\n",
    "train_data_tokenized = train_data.map(\n",
    "    tokenize_data,\n",
    "    batched=True,\n",
    "    remove_columns=['article', 'highlights'],\n",
    "    batch_size=128,\n",
    ")\n",
    "\n",
    "val_data_tokenized = val_data.map(\n",
    "    tokenize_data,\n",
    "    batched=True,\n",
    "    remove_columns=['article', 'highlights'],\n",
    "    batch_size=128,\n",
    ")\n",
    "\n",
    "test_data_tokenized = test_data.map(\n",
    "    tokenize_data,\n",
    "    batched=True,\n",
    "    remove_columns=['article', 'highlights'],\n",
    "    batch_size=128,\n",
    ")\n",
    "\n",
    "train_data_tokenized = train_data_tokenized.with_format(\"torch\")\n",
    "val_data_tokenized = val_data_tokenized.with_format(\"torch\")\n",
    "test_data_tokenized = test_data_tokenized.with_format(\"torch\")\n",
    "\n",
    "print(train_data_tokenized[0])"
   ],
   "outputs": [
    {
     "name": "stderr",
     "output_type": "stream",
     "text": [
      "Map: 100%|██████████| 762/762 [00:00<00:00, 4456.50 examples/s]\n",
      "Map: 100%|██████████| 25/25 [00:00<00:00, 2821.41 examples/s]\n",
      "Map: 100%|██████████| 29/29 [00:00<00:00, 2641.13 examples/s]\n"
     ]
    },
    {
     "name": "stdout",
     "output_type": "stream",
     "text": [
      "{'id': '9cce7373a54faccf5b5d1232c82afab9b29ab6b9', 'input_ids': tensor([21603,    10,  1697,    37,  7390,     7,   129,     3,     9,   691,\n",
      "           18,   413,  4743,    87,  2688,    87,  4018,    61,  1697,   584,\n",
      "        13162,   667,    10, 17117, 12254,  4277,     7,    30,   356,   204,\n",
      "        11590,    18,  4018,  1697,    37,  7390,     7,   281,    91,    21,\n",
      "            3,     9, 13593,  4743, 20223,    87,  4018,    61,  1697,    37,\n",
      "         7390,     7,    44,   220,   767,  4743, 13572,    87,  4018,    61,\n",
      "         1697,    37,  7390,     7,    16,  1762,    41, 17637, 12989,  4018,\n",
      "           61,  1697,   584, 13162,   667,    10,  1485,   671,    13, 17117,\n",
      "        12254,    31,     7,  7390,     7,   262,    18,  1963,    12,     3,\n",
      "            9,  1565,     3,     5,     1,     0,     0,     0,     0,     0,\n",
      "            0,     0,     0,     0,     0,     0,     0,     0,     0,     0,\n",
      "            0,     0,     0,     0,     0,     0,     0,     0,     0,     0,\n",
      "            0,     0,     0,     0,     0,     0,     0,     0,     0,     0,\n",
      "            0,     0,     0,     0,     0,     0,     0,     0,     0,     0,\n",
      "            0,     0,     0,     0,     0,     0,     0,     0,     0,     0,\n",
      "            0,     0,     0,     0,     0,     0,     0,     0,     0,     0,\n",
      "            0,     0,     0,     0,     0,     0,     0,     0,     0,     0,\n",
      "            0,     0,     0,     0,     0,     0,     0,     0,     0,     0,\n",
      "            0,     0,     0,     0,     0,     0,     0,     0,     0,     0,\n",
      "            0,     0,     0,     0,     0,     0,     0,     0,     0,     0,\n",
      "            0,     0,     0,     0,     0,     0,     0,     0,     0,     0,\n",
      "            0,     0,     0,     0,     0,     0,     0,     0,     0,     0,\n",
      "            0,     0,     0,     0,     0,     0,     0,     0,     0,     0,\n",
      "            0,     0,     0,     0,     0,     0,     0,     0,     0,     0,\n",
      "            0,     0,     0,     0,     0,     0,     0,     0,     0,     0,\n",
      "            0,     0,     0,     0,     0,     0,     0,     0,     0,     0,\n",
      "            0,     0,     0,     0,     0,     0,     0,     0,     0,     0,\n",
      "            0,     0,     0,     0,     0,     0,     0,     0,     0,     0,\n",
      "            0,     0,     0,     0,     0,     0,     0,     0,     0,     0,\n",
      "            0,     0,     0,     0,     0,     0,     0,     0,     0,     0,\n",
      "            0,     0,     0,     0,     0,     0,     0,     0,     0,     0,\n",
      "            0,     0,     0,     0,     0,     0,     0,     0,     0,     0,\n",
      "            0,     0,     0,     0,     0,     0,     0,     0,     0,     0,\n",
      "            0,     0,     0,     0,     0,     0,     0,     0,     0,     0,\n",
      "            0,     0,     0,     0,     0,     0,     0,     0,     0,     0,\n",
      "            0,     0,     0,     0,     0,     0,     0,     0,     0,     0,\n",
      "            0,     0,     0,     0,     0,     0,     0,     0,     0,     0,\n",
      "            0,     0,     0,     0,     0,     0,     0,     0,     0,     0,\n",
      "            0,     0,     0,     0,     0,     0,     0,     0,     0,     0,\n",
      "            0,     0,     0,     0,     0,     0,     0,     0,     0,     0,\n",
      "            0,     0,     0,     0,     0,     0,     0,     0,     0,     0,\n",
      "            0,     0,     0,     0,     0,     0,     0,     0,     0,     0,\n",
      "            0,     0,     0,     0,     0,     0,     0,     0,     0,     0,\n",
      "            0,     0,     0,     0,     0,     0,     0,     0,     0,     0,\n",
      "            0,     0,     0,     0,     0,     0,     0,     0,     0,     0,\n",
      "            0,     0,     0,     0,     0,     0,     0,     0,     0,     0,\n",
      "            0,     0,     0,     0,     0,     0,     0,     0,     0,     0,\n",
      "            0,     0,     0,     0,     0,     0,     0,     0,     0,     0,\n",
      "            0,     0,     0,     0,     0,     0,     0,     0,     0,     0,\n",
      "            0,     0,     0,     0,     0,     0,     0,     0,     0,     0,\n",
      "            0,     0,     0,     0,     0,     0,     0,     0,     0,     0,\n",
      "            0,     0]), 'attention_mask': tensor([1, 1, 1, 1, 1, 1, 1, 1, 1, 1, 1, 1, 1, 1, 1, 1, 1, 1, 1, 1, 1, 1, 1, 1,\n",
      "        1, 1, 1, 1, 1, 1, 1, 1, 1, 1, 1, 1, 1, 1, 1, 1, 1, 1, 1, 1, 1, 1, 1, 1,\n",
      "        1, 1, 1, 1, 1, 1, 1, 1, 1, 1, 1, 1, 1, 1, 1, 1, 1, 1, 1, 1, 1, 1, 1, 1,\n",
      "        1, 1, 1, 1, 1, 1, 1, 1, 1, 1, 1, 1, 1, 1, 1, 1, 1, 1, 1, 1, 1, 1, 1, 0,\n",
      "        0, 0, 0, 0, 0, 0, 0, 0, 0, 0, 0, 0, 0, 0, 0, 0, 0, 0, 0, 0, 0, 0, 0, 0,\n",
      "        0, 0, 0, 0, 0, 0, 0, 0, 0, 0, 0, 0, 0, 0, 0, 0, 0, 0, 0, 0, 0, 0, 0, 0,\n",
      "        0, 0, 0, 0, 0, 0, 0, 0, 0, 0, 0, 0, 0, 0, 0, 0, 0, 0, 0, 0, 0, 0, 0, 0,\n",
      "        0, 0, 0, 0, 0, 0, 0, 0, 0, 0, 0, 0, 0, 0, 0, 0, 0, 0, 0, 0, 0, 0, 0, 0,\n",
      "        0, 0, 0, 0, 0, 0, 0, 0, 0, 0, 0, 0, 0, 0, 0, 0, 0, 0, 0, 0, 0, 0, 0, 0,\n",
      "        0, 0, 0, 0, 0, 0, 0, 0, 0, 0, 0, 0, 0, 0, 0, 0, 0, 0, 0, 0, 0, 0, 0, 0,\n",
      "        0, 0, 0, 0, 0, 0, 0, 0, 0, 0, 0, 0, 0, 0, 0, 0, 0, 0, 0, 0, 0, 0, 0, 0,\n",
      "        0, 0, 0, 0, 0, 0, 0, 0, 0, 0, 0, 0, 0, 0, 0, 0, 0, 0, 0, 0, 0, 0, 0, 0,\n",
      "        0, 0, 0, 0, 0, 0, 0, 0, 0, 0, 0, 0, 0, 0, 0, 0, 0, 0, 0, 0, 0, 0, 0, 0,\n",
      "        0, 0, 0, 0, 0, 0, 0, 0, 0, 0, 0, 0, 0, 0, 0, 0, 0, 0, 0, 0, 0, 0, 0, 0,\n",
      "        0, 0, 0, 0, 0, 0, 0, 0, 0, 0, 0, 0, 0, 0, 0, 0, 0, 0, 0, 0, 0, 0, 0, 0,\n",
      "        0, 0, 0, 0, 0, 0, 0, 0, 0, 0, 0, 0, 0, 0, 0, 0, 0, 0, 0, 0, 0, 0, 0, 0,\n",
      "        0, 0, 0, 0, 0, 0, 0, 0, 0, 0, 0, 0, 0, 0, 0, 0, 0, 0, 0, 0, 0, 0, 0, 0,\n",
      "        0, 0, 0, 0, 0, 0, 0, 0, 0, 0, 0, 0, 0, 0, 0, 0, 0, 0, 0, 0, 0, 0, 0, 0,\n",
      "        0, 0, 0, 0, 0, 0, 0, 0, 0, 0, 0, 0, 0, 0, 0, 0, 0, 0, 0, 0, 0, 0, 0, 0,\n",
      "        0, 0, 0, 0, 0, 0, 0, 0, 0, 0, 0, 0, 0, 0, 0, 0, 0, 0, 0, 0, 0, 0, 0, 0,\n",
      "        0, 0, 0, 0, 0, 0, 0, 0, 0, 0, 0, 0, 0, 0, 0, 0, 0, 0, 0, 0, 0, 0, 0, 0,\n",
      "        0, 0, 0, 0, 0, 0, 0, 0]), 'labels': tensor([16571,    13, 17117, 12254,    31,     7,  7390,     7,     3,     5,\n",
      "         1079,  1955,    11, 21812,  9066,   130,  2170,  1671,  6464,  4101,\n",
      "            3,     5,  4589,   223,    12,    48,   353,    21,  3842,  3250,\n",
      "         1933,    55,     1,     0,     0,     0,     0,     0,     0,     0,\n",
      "            0,     0,     0,     0,     0,     0,     0,     0,     0,     0,\n",
      "            0,     0,     0,     0,     0,     0,     0,     0,     0,     0,\n",
      "            0,     0,     0,     0,     0,     0,     0,     0,     0,     0,\n",
      "            0,     0,     0,     0,     0,     0,     0,     0,     0,     0,\n",
      "            0,     0,     0,     0,     0,     0,     0,     0,     0,     0,\n",
      "            0,     0,     0,     0,     0,     0,     0,     0,     0,     0,\n",
      "            0,     0,     0,     0,     0,     0,     0,     0,     0,     0,\n",
      "            0,     0,     0,     0,     0,     0,     0,     0,     0,     0,\n",
      "            0,     0,     0,     0,     0,     0,     0,     0,     0,     0,\n",
      "            0,     0,     0,     0,     0,     0,     0,     0,     0,     0,\n",
      "            0,     0,     0,     0,     0,     0,     0,     0,     0,     0])}\n"
     ]
    }
   ],
   "execution_count": 92
  },
  {
   "cell_type": "code",
   "metadata": {
    "ExecuteTime": {
     "end_time": "2025-01-26T02:03:55.167096Z",
     "start_time": "2025-01-26T02:03:55.164703Z"
    }
   },
   "source": [
    "train_data_tokenized"
   ],
   "outputs": [
    {
     "data": {
      "text/plain": [
       "Dataset({\n",
       "    features: ['id', 'input_ids', 'attention_mask', 'labels'],\n",
       "    num_rows: 762\n",
       "})"
      ]
     },
     "execution_count": 93,
     "metadata": {},
     "output_type": "execute_result"
    }
   ],
   "execution_count": 93
  },
  {
   "cell_type": "markdown",
   "metadata": {},
   "source": [
    "## Model"
   ]
  },
  {
   "cell_type": "code",
   "metadata": {
    "ExecuteTime": {
     "end_time": "2025-01-26T02:03:55.871678Z",
     "start_time": "2025-01-26T02:03:55.192338Z"
    }
   },
   "source": [
    "from evaluate import load\n",
    "\n",
    "rouge = load(\"rouge\")\n",
    "\n",
    "def compute_metrics(p):\n",
    "    predictions, labels = p\n",
    "    decoded_preds = tokenizer.batch_decode(predictions, skip_special_tokens=True)\n",
    "    decoded_labels = tokenizer.batch_decode(labels, skip_special_tokens=True)\n",
    "    result = rouge.compute(predictions=decoded_preds, references=decoded_labels)\n",
    "    return result"
   ],
   "outputs": [],
   "execution_count": 94
  },
  {
   "cell_type": "code",
   "metadata": {
    "ExecuteTime": {
     "end_time": "2025-01-26T02:07:39.144686Z",
     "start_time": "2025-01-26T02:03:55.903592Z"
    }
   },
   "source": [
    "from transformers import AutoModelForSeq2SeqLM, Seq2SeqTrainingArguments, Seq2SeqTrainer\n",
    "\n",
    "model = AutoModelForSeq2SeqLM.from_pretrained(model_name)\n",
    "\n",
    "training_args = Seq2SeqTrainingArguments(\n",
    "    output_dir=\"./results\",\n",
    "    eval_strategy=\"epoch\",\n",
    "    save_strategy=\"epoch\",\n",
    "    learning_rate=5e-5,\n",
    "    per_device_train_batch_size=16,\n",
    "    per_device_eval_batch_size=16,\n",
    "    gradient_accumulation_steps=2,\n",
    "    weight_decay=0.01,\n",
    "    save_total_limit=3,\n",
    "    num_train_epochs=5,\n",
    "    predict_with_generate=True,\n",
    "    logging_dir='./logs',\n",
    "    logging_steps=100,\n",
    "    load_best_model_at_end=True,\n",
    "    metric_for_best_model=\"eval_loss\",\n",
    "    greater_is_better=False,\n",
    "    save_steps=1000,\n",
    ")\n",
    "\n",
    "trainer = Seq2SeqTrainer(\n",
    "    model=model,\n",
    "    args=training_args,\n",
    "    train_dataset=train_data_tokenized,\n",
    "    eval_dataset=val_data_tokenized,\n",
    "    processing_class=tokenizer,\n",
    "    compute_metrics=compute_metrics\n",
    ")\n",
    "\n",
    "trainer.train()"
   ],
   "outputs": [
    {
     "data": {
      "text/plain": [
       "<IPython.core.display.HTML object>"
      ],
      "text/html": [
       "\n",
       "    <div>\n",
       "      \n",
       "      <progress value='120' max='120' style='width:300px; height:20px; vertical-align: middle;'></progress>\n",
       "      [120/120 03:39, Epoch 5/5]\n",
       "    </div>\n",
       "    <table border=\"1\" class=\"dataframe\">\n",
       "  <thead>\n",
       " <tr style=\"text-align: left;\">\n",
       "      <th>Epoch</th>\n",
       "      <th>Training Loss</th>\n",
       "      <th>Validation Loss</th>\n",
       "      <th>Rouge1</th>\n",
       "      <th>Rouge2</th>\n",
       "      <th>Rougel</th>\n",
       "      <th>Rougelsum</th>\n",
       "    </tr>\n",
       "  </thead>\n",
       "  <tbody>\n",
       "    <tr>\n",
       "      <td>1</td>\n",
       "      <td>No log</td>\n",
       "      <td>2.313884</td>\n",
       "      <td>0.192633</td>\n",
       "      <td>0.079197</td>\n",
       "      <td>0.158519</td>\n",
       "      <td>0.158664</td>\n",
       "    </tr>\n",
       "    <tr>\n",
       "      <td>2</td>\n",
       "      <td>No log</td>\n",
       "      <td>1.154938</td>\n",
       "      <td>0.000000</td>\n",
       "      <td>0.000000</td>\n",
       "      <td>0.000000</td>\n",
       "      <td>0.000000</td>\n",
       "    </tr>\n",
       "    <tr>\n",
       "      <td>3</td>\n",
       "      <td>No log</td>\n",
       "      <td>1.122937</td>\n",
       "      <td>0.000000</td>\n",
       "      <td>0.000000</td>\n",
       "      <td>0.000000</td>\n",
       "      <td>0.000000</td>\n",
       "    </tr>\n",
       "    <tr>\n",
       "      <td>4</td>\n",
       "      <td>No log</td>\n",
       "      <td>1.096797</td>\n",
       "      <td>0.000000</td>\n",
       "      <td>0.000000</td>\n",
       "      <td>0.000000</td>\n",
       "      <td>0.000000</td>\n",
       "    </tr>\n",
       "    <tr>\n",
       "      <td>5</td>\n",
       "      <td>2.641400</td>\n",
       "      <td>1.085906</td>\n",
       "      <td>0.000000</td>\n",
       "      <td>0.000000</td>\n",
       "      <td>0.000000</td>\n",
       "      <td>0.000000</td>\n",
       "    </tr>\n",
       "  </tbody>\n",
       "</table><p>"
      ]
     },
     "metadata": {},
     "output_type": "display_data"
    },
    {
     "name": "stderr",
     "output_type": "stream",
     "text": [
      "There were missing keys in the checkpoint model loaded: ['encoder.embed_tokens.weight', 'decoder.embed_tokens.weight', 'lm_head.weight'].\n"
     ]
    },
    {
     "data": {
      "text/plain": [
       "TrainOutput(global_step=120, training_loss=2.3255007743835447, metrics={'train_runtime': 221.7282, 'train_samples_per_second': 17.183, 'train_steps_per_second': 0.541, 'total_flos': 515652263608320.0, 'train_loss': 2.3255007743835447, 'epoch': 5.0})"
      ]
     },
     "execution_count": 95,
     "metadata": {},
     "output_type": "execute_result"
    }
   ],
   "execution_count": 95
  },
  {
   "cell_type": "code",
   "metadata": {
    "ExecuteTime": {
     "end_time": "2025-01-26T02:07:40.876758Z",
     "start_time": "2025-01-26T02:07:39.195368Z"
    }
   },
   "source": [
    "results = trainer.evaluate(eval_dataset=val_data_tokenized)\n",
    "print(results)"
   ],
   "outputs": [
    {
     "data": {
      "text/plain": [
       "<IPython.core.display.HTML object>"
      ],
      "text/html": [
       "\n",
       "    <div>\n",
       "      \n",
       "      <progress value='4' max='2' style='width:300px; height:20px; vertical-align: middle;'></progress>\n",
       "      [2/2 00:03]\n",
       "    </div>\n",
       "    "
      ]
     },
     "metadata": {},
     "output_type": "display_data"
    },
    {
     "name": "stdout",
     "output_type": "stream",
     "text": [
      "{'eval_loss': 1.0859057903289795, 'eval_rouge1': 0.0, 'eval_rouge2': 0.0, 'eval_rougeL': 0.0, 'eval_rougeLsum': 0.0, 'eval_runtime': 1.6776, 'eval_samples_per_second': 14.902, 'eval_steps_per_second': 1.192, 'epoch': 5.0}\n"
     ]
    }
   ],
   "execution_count": 96
  },
  {
   "cell_type": "code",
   "metadata": {
    "ExecuteTime": {
     "end_time": "2025-01-26T02:07:43.222219Z",
     "start_time": "2025-01-26T02:07:40.899059Z"
    }
   },
   "source": [
    "test_results = trainer.evaluate(eval_dataset=test_data_tokenized)\n",
    "print(test_results)"
   ],
   "outputs": [
    {
     "name": "stdout",
     "output_type": "stream",
     "text": [
      "{'eval_loss': 1.0151383876800537, 'eval_rouge1': 0.0, 'eval_rouge2': 0.0, 'eval_rougeL': 0.0, 'eval_rougeLsum': 0.0, 'eval_runtime': 2.3197, 'eval_samples_per_second': 12.502, 'eval_steps_per_second': 0.862, 'epoch': 5.0}\n"
     ]
    }
   ],
   "execution_count": 97
  },
  {
   "cell_type": "code",
   "metadata": {
    "ExecuteTime": {
     "end_time": "2025-01-26T02:07:45.834827Z",
     "start_time": "2025-01-26T02:07:43.424495Z"
    }
   },
   "source": [
    "import torch\n",
    "\n",
    "device = torch.device(\"cuda\" if torch.cuda.is_available() else \"cpu\")\n",
    "model = model.to(device)\n",
    "\n",
    "# Generating predictions for the test dataset\n",
    "test_sample = test_data_tokenized[1]\n",
    "decoded_input = tokenizer.decode(test_sample['input_ids'], skip_special_tokens=True)\n",
    "print(decoded_input)\n",
    "\n",
    "input_ids = test_sample['input_ids']\n",
    "outputs = model.generate(input_ids=input_ids.unsqueeze(0), max_length=250, num_beams=4, no_repeat_ngram_size=2, temperature=1.0)\n",
    "print(f\"TYPE: type{outputs}\")\n",
    "\n",
    "# Decode predictions\n",
    "decoded_output = tokenizer.decode(outputs[0], skip_special_tokens=True)\n",
    "print(decoded_output)"
   ],
   "outputs": [
    {
     "name": "stdout",
     "output_type": "stream",
     "text": [
      "summarize: London (CNN)A 19-year-old man was charged Wednesday with terror offenses after he was arrested as he returned to Britain from Turkey, London's Metropolitan Police said. Yahya Rashid, a UK national from northwest London, was detained at Luton airport on Tuesday after he arrived on a flight from Istanbul, police said. He's been charged with engaging in conduct in preparation of acts of terrorism, and with engaging in conduct with the intention of assisting others to commit acts of terrorism. Both charges relate to the period between November 1 and March 31. Rashid is due to appear in Westminster Magistrates' Court on Wednesday, police said. CNN's Lindsay Isaac contributed to this report.\n",
      "TYPE: typetensor([[    0,     0,  4701,   107,    63,     9,  9053, 11740,     6, 12370,\n",
      "            45, 24155,  1524,     6,    47, 10195,    44,  2318,    17,   106,\n",
      "          3761,    30,  2818,     3,     5,   216,    31,     7,  4977,    28,\n",
      "          7007,    16,  3498,    16,  4537,    13,  6775,    13,     3, 14389,\n",
      "             6,    11,    28, 13646,    28,     8,  8762,    13,  2022,   717,\n",
      "            12, 10042,  6775,     5,  2867,  3991,  9098,    12,     8,  1059,\n",
      "           344,  1671,   209,    11,  1332,  2664,     5,     3,    88,    19,\n",
      "           788,    12,  2385,    16, 25804, 22673,  3109,  1422,    31,  2243,\n",
      "            30,  2875,     5,     1]])\n",
      "Yahya Rashid, 19, from northwest London, was arrested at Luton airport on Tuesday. He's charged with engaging in conduct in preparation of acts of terrorism, and with conducting with the intention of helping others to commit acts. Both charges relate to the period between November 1 and March 31. he is due to appear in Westminster Magistrates' Court on Wednesday.\n"
     ]
    }
   ],
   "execution_count": 98
  },
  {
   "cell_type": "code",
   "metadata": {
    "ExecuteTime": {
     "end_time": "2025-01-26T02:07:45.950246Z",
     "start_time": "2025-01-26T02:07:45.853430Z"
    }
   },
   "source": [
    "model.save_pretrained(\"./fine_tuned_model\")\n",
    "tokenizer.save_pretrained(\"./fine_tuned_model\")"
   ],
   "outputs": [
    {
     "data": {
      "text/plain": [
       "('./fine_tuned_model/tokenizer_config.json',\n",
       " './fine_tuned_model/special_tokens_map.json',\n",
       " './fine_tuned_model/tokenizer.json')"
      ]
     },
     "execution_count": 99,
     "metadata": {},
     "output_type": "execute_result"
    }
   ],
   "execution_count": 99
  }
 ],
 "metadata": {
  "colab": {
   "provenance": []
  },
  "kernelspec": {
   "display_name": "base",
   "language": "python",
   "name": "python3"
  },
  "language_info": {
   "codemirror_mode": {
    "name": "ipython",
    "version": 3
   },
   "file_extension": ".py",
   "mimetype": "text/x-python",
   "name": "python",
   "nbconvert_exporter": "python",
   "pygments_lexer": "ipython3",
   "version": "3.9.13"
  }
 },
 "nbformat": 4,
 "nbformat_minor": 0
}
